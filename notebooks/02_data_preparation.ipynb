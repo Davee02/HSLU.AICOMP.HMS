{
 "cells": [
  {
   "cell_type": "code",
   "execution_count": 1,
   "metadata": {},
   "outputs": [
    {
     "name": "stdout",
     "output_type": "stream",
     "text": [
      "Processor initialized.\n",
      "Raw data path: '/home/maiko/Documents/HSLU/HSLU/AICOMP/HSLU.AICOMP.HMS/data'\n",
      "Processed data path: '/home/maiko/Documents/HSLU/HSLU/AICOMP/HSLU.AICOMP.HMS/data/processed'\n"
     ]
    }
   ],
   "source": [
    "import sys\n",
    "import os\n",
    "project_root = os.path.abspath(os.path.join(os.getcwd(), '..'))\n",
    "\n",
    "if project_root not in sys.path:\n",
    "    sys.path.insert(0, project_root)\n",
    "\n",
    "from scripts.eeg_processor import EEGDataProcessor\n",
    "\n",
    "processor = EEGDataProcessor()"
   ]
  },
  {
   "cell_type": "code",
   "execution_count": 2,
   "metadata": {},
   "outputs": [
    {
     "name": "stdout",
     "output_type": "stream",
     "text": [
      "==================================================\n",
      "Starting EEG Data Processing Pipeline\n",
      "==================================================\n",
      "Creating NumPy EEG files in '../data/processed/eegs_npy/'...\n"
     ]
    },
    {
     "data": {
      "application/vnd.jupyter.widget-view+json": {
       "model_id": "9a8813ce6c554ff2ac32746220338efb",
       "version_major": 2,
       "version_minor": 0
      },
      "text/plain": [
       "Converting Parquet to NumPy:   0%|          | 0/17089 [00:00<?, ?it/s]"
      ]
     },
     "metadata": {},
     "output_type": "display_data"
    },
    {
     "name": "stdout",
     "output_type": "stream",
     "text": [
      "NumPy file creation complete.\n",
      "Using 'max_vote_window' vote aggregation strategy.\n",
      "\n",
      "Processed train data saved to '../data/processed/train_processed.csv'.\n",
      "Shape of the final dataframe: (17089, 15)\n",
      "\n",
      "Pipeline finished successfully!\n",
      "==================================================\n",
      "\n",
      "Final Data Head (sum_and_normalize):\n"
     ]
    },
    {
     "data": {
      "text/html": [
       "<div>\n",
       "<style scoped>\n",
       "    .dataframe tbody tr th:only-of-type {\n",
       "        vertical-align: middle;\n",
       "    }\n",
       "\n",
       "    .dataframe tbody tr th {\n",
       "        vertical-align: top;\n",
       "    }\n",
       "\n",
       "    .dataframe thead th {\n",
       "        text-align: right;\n",
       "    }\n",
       "</style>\n",
       "<table border=\"1\" class=\"dataframe\">\n",
       "  <thead>\n",
       "    <tr style=\"text-align: right;\">\n",
       "      <th></th>\n",
       "      <th>eeg_id</th>\n",
       "      <th>eeg_sub_id</th>\n",
       "      <th>eeg_label_offset_seconds</th>\n",
       "      <th>spectrogram_id</th>\n",
       "      <th>spectrogram_sub_id</th>\n",
       "      <th>spectrogram_label_offset_seconds</th>\n",
       "      <th>label_id</th>\n",
       "      <th>patient_id</th>\n",
       "      <th>expert_consensus</th>\n",
       "      <th>seizure_vote</th>\n",
       "      <th>lpd_vote</th>\n",
       "      <th>gpd_vote</th>\n",
       "      <th>lrda_vote</th>\n",
       "      <th>grda_vote</th>\n",
       "      <th>other_vote</th>\n",
       "    </tr>\n",
       "  </thead>\n",
       "  <tbody>\n",
       "    <tr>\n",
       "      <th>0</th>\n",
       "      <td>568657</td>\n",
       "      <td>0</td>\n",
       "      <td>0.0</td>\n",
       "      <td>789577333</td>\n",
       "      <td>0</td>\n",
       "      <td>0.0</td>\n",
       "      <td>1825637311</td>\n",
       "      <td>20654</td>\n",
       "      <td>Other</td>\n",
       "      <td>0.0</td>\n",
       "      <td>0.000000</td>\n",
       "      <td>0.25</td>\n",
       "      <td>0.000000</td>\n",
       "      <td>0.166667</td>\n",
       "      <td>0.583333</td>\n",
       "    </tr>\n",
       "    <tr>\n",
       "      <th>1</th>\n",
       "      <td>582999</td>\n",
       "      <td>0</td>\n",
       "      <td>0.0</td>\n",
       "      <td>1552638400</td>\n",
       "      <td>0</td>\n",
       "      <td>0.0</td>\n",
       "      <td>1722186807</td>\n",
       "      <td>20230</td>\n",
       "      <td>LPD</td>\n",
       "      <td>0.0</td>\n",
       "      <td>0.857143</td>\n",
       "      <td>0.00</td>\n",
       "      <td>0.071429</td>\n",
       "      <td>0.000000</td>\n",
       "      <td>0.071429</td>\n",
       "    </tr>\n",
       "    <tr>\n",
       "      <th>2</th>\n",
       "      <td>642382</td>\n",
       "      <td>0</td>\n",
       "      <td>0.0</td>\n",
       "      <td>14960202</td>\n",
       "      <td>12</td>\n",
       "      <td>1008.0</td>\n",
       "      <td>3254468733</td>\n",
       "      <td>5955</td>\n",
       "      <td>Other</td>\n",
       "      <td>0.0</td>\n",
       "      <td>0.000000</td>\n",
       "      <td>0.00</td>\n",
       "      <td>0.000000</td>\n",
       "      <td>0.000000</td>\n",
       "      <td>1.000000</td>\n",
       "    </tr>\n",
       "    <tr>\n",
       "      <th>3</th>\n",
       "      <td>751790</td>\n",
       "      <td>0</td>\n",
       "      <td>0.0</td>\n",
       "      <td>618728447</td>\n",
       "      <td>4</td>\n",
       "      <td>908.0</td>\n",
       "      <td>2898467035</td>\n",
       "      <td>38549</td>\n",
       "      <td>GPD</td>\n",
       "      <td>0.0</td>\n",
       "      <td>0.000000</td>\n",
       "      <td>1.00</td>\n",
       "      <td>0.000000</td>\n",
       "      <td>0.000000</td>\n",
       "      <td>0.000000</td>\n",
       "    </tr>\n",
       "    <tr>\n",
       "      <th>4</th>\n",
       "      <td>778705</td>\n",
       "      <td>0</td>\n",
       "      <td>0.0</td>\n",
       "      <td>52296320</td>\n",
       "      <td>0</td>\n",
       "      <td>0.0</td>\n",
       "      <td>3255875127</td>\n",
       "      <td>40955</td>\n",
       "      <td>Other</td>\n",
       "      <td>0.0</td>\n",
       "      <td>0.000000</td>\n",
       "      <td>0.00</td>\n",
       "      <td>0.000000</td>\n",
       "      <td>0.000000</td>\n",
       "      <td>1.000000</td>\n",
       "    </tr>\n",
       "  </tbody>\n",
       "</table>\n",
       "</div>"
      ],
      "text/plain": [
       "   eeg_id  eeg_sub_id  eeg_label_offset_seconds  spectrogram_id  \\\n",
       "0  568657           0                       0.0       789577333   \n",
       "1  582999           0                       0.0      1552638400   \n",
       "2  642382           0                       0.0        14960202   \n",
       "3  751790           0                       0.0       618728447   \n",
       "4  778705           0                       0.0        52296320   \n",
       "\n",
       "   spectrogram_sub_id  spectrogram_label_offset_seconds    label_id  \\\n",
       "0                   0                               0.0  1825637311   \n",
       "1                   0                               0.0  1722186807   \n",
       "2                  12                            1008.0  3254468733   \n",
       "3                   4                             908.0  2898467035   \n",
       "4                   0                               0.0  3255875127   \n",
       "\n",
       "   patient_id expert_consensus  seizure_vote  lpd_vote  gpd_vote  lrda_vote  \\\n",
       "0       20654            Other           0.0  0.000000      0.25   0.000000   \n",
       "1       20230              LPD           0.0  0.857143      0.00   0.071429   \n",
       "2        5955            Other           0.0  0.000000      0.00   0.000000   \n",
       "3       38549              GPD           0.0  0.000000      1.00   0.000000   \n",
       "4       40955            Other           0.0  0.000000      0.00   0.000000   \n",
       "\n",
       "   grda_vote  other_vote  \n",
       "0   0.166667    0.583333  \n",
       "1   0.000000    0.071429  \n",
       "2   0.000000    1.000000  \n",
       "3   0.000000    0.000000  \n",
       "4   0.000000    1.000000  "
      ]
     },
     "metadata": {},
     "output_type": "display_data"
    }
   ],
   "source": [
    "processed_df_max = processor.process_data(vote_method='max_vote_window', skip_npy=False) #max_vote_window or sum_and_normalize\n",
    "\n",
    "print(\"\\nFinal Data Head (sum_and_normalize):\")\n",
    "display(processed_df_max.head())"
   ]
  },
  {
   "cell_type": "code",
   "execution_count": 4,
   "metadata": {},
   "outputs": [
    {
     "data": {
      "text/plain": [
       "spectrogram_id\n",
       "764146759     107\n",
       "1863712617     62\n",
       "2060670605     54\n",
       "1940415234     54\n",
       "1908433744     53\n",
       "             ... \n",
       "1952027901      1\n",
       "1811366326      1\n",
       "1974907962      1\n",
       "222415569       1\n",
       "1317684217      1\n",
       "Name: count, Length: 11138, dtype: int64"
      ]
     },
     "execution_count": 4,
     "metadata": {},
     "output_type": "execute_result"
    }
   ],
   "source": [
    "processed_df_max[\"spectrogram_id\"].value_counts()"
   ]
  },
  {
   "cell_type": "code",
   "execution_count": null,
   "metadata": {},
   "outputs": [],
   "source": []
  }
 ],
 "metadata": {
  "kernelspec": {
   "display_name": "aicomp",
   "language": "python",
   "name": "python3"
  },
  "language_info": {
   "codemirror_mode": {
    "name": "ipython",
    "version": 3
   },
   "file_extension": ".py",
   "mimetype": "text/x-python",
   "name": "python",
   "nbconvert_exporter": "python",
   "pygments_lexer": "ipython3",
   "version": "3.11.11"
  }
 },
 "nbformat": 4,
 "nbformat_minor": 2
}
