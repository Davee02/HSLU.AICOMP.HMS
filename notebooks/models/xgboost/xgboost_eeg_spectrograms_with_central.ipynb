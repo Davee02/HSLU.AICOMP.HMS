{
 "cells": [
  {
   "cell_type": "markdown",
   "metadata": {},
   "source": [
    "# XGBoost with EEG spectrograms and Central Chain\n",
    "\n",
    "In comparison to `xgboost_eeg_spectrograms.ipynb`, this notebook also includes the Central Chain features from the EEG spectrograms.\n",
    "\n",
    "For each EEG ID, this produces 3120 (3\\*400 + 3\\*640) features."
   ]
  },
  {
   "cell_type": "code",
   "execution_count": 21,
   "metadata": {},
   "outputs": [],
   "source": [
    "DATA_PREPARATION_VOTE_METHOD = \"max_vote_window\" # \"max_vote_window\" or \"sum_and_normalize\". Decides how to aggregate the predictions of the overlapping windows\n",
    "EEG_SPECTROGRAMS_TYPE = \"cwt\""
   ]
  },
  {
   "cell_type": "code",
   "execution_count": 22,
   "metadata": {},
   "outputs": [],
   "source": [
    "import os\n",
    "import sys\n",
    "import warnings\n",
    "import gc\n",
    "import pathlib\n",
    "\n",
    "if bool(os.environ.get(\"KAGGLE_URL_BASE\", \"\")):\n",
    "  import sys\n",
    "  # running on kaggle\n",
    "  sys.path.insert(0, \"/kaggle/input/hsm-source-files\")\n",
    "else:\n",
    "  # running locally\n",
    "  sys.path.insert(0, os.path.abspath(os.path.join(os.getcwd(), \"..\", \"..\", \"..\")))\n",
    "\n",
    "import torch.nn as nn\n",
    "import pandas as pd\n",
    "import numpy as np\n",
    "import xgboost as xgb\n",
    "\n",
    "import torch\n",
    "\n",
    "from src.utils.utils import get_raw_data_dir, get_processed_data_dir, get_submission_csv_path, set_seeds, get_models_save_path, get_eeg_spectrogram_path\n",
    "from src.utils.constants import Constants\n",
    "from src.datasets.eeg_processor import EEGDataProcessor\n",
    "from src.utils.k_folds_creator import KFoldCreator\n",
    "from src.utils.eeg_spectrogram_creator import EEGSpectrogramGenerator\n",
    "\n",
    "from tqdm import tqdm\n",
    "\n",
    "set_seeds(42)"
   ]
  },
  {
   "cell_type": "code",
   "execution_count": 23,
   "metadata": {},
   "outputs": [
    {
     "name": "stdout",
     "output_type": "stream",
     "text": [
      "Processor initialized.\n",
      "Raw data path: '/home/david/git/aicomp/data'\n",
      "Processed data path: '/home/david/git/aicomp/data/processed'\n",
      "==================================================\n",
      "Starting EEG Data Processing Pipeline\n",
      "==================================================\n",
      "Skipping NumPy file creation as requested.\n",
      "Using 'max_vote_window' vote aggregation strategy.\n",
      "\n",
      "Processed train data saved to '/home/david/git/aicomp/data/processed/train_processed.csv'.\n",
      "Shape of the final dataframe: (17089, 12)\n",
      "\n",
      "Pipeline finished successfully!\n",
      "==================================================\n"
     ]
    }
   ],
   "source": [
    "DATA_PATH = get_raw_data_dir()\n",
    "TRAIN_EEG_SPECTROGRAMS_PATH = get_eeg_spectrogram_path(\"train\", \"hsm-eeg-spectrograms\")\n",
    "TEST_EEG_SPECTROGRAMS_PATH = get_eeg_spectrogram_path(\"test\", \"hsm-eeg-spectrograms\")\n",
    "\n",
    "processor = EEGDataProcessor(raw_data_path=DATA_PATH, processed_data_path=get_processed_data_dir())\n",
    "train_df = processor.process_data(vote_method=DATA_PREPARATION_VOTE_METHOD, skip_npy=True)\n",
    "\n",
    "test_df = pd.read_csv(DATA_PATH / \"test.csv\")\n",
    "\n",
    "kl_score = nn.KLDivLoss(reduction=\"batchmean\")"
   ]
  },
  {
   "cell_type": "markdown",
   "metadata": {},
   "source": [
    "## Load Spectrogram Files into Memory"
   ]
  },
  {
   "cell_type": "code",
   "execution_count": 24,
   "metadata": {},
   "outputs": [
    {
     "name": "stdout",
     "output_type": "stream",
     "text": [
      "Found 11138 train Kaggle spectrogram files to load into memory\n"
     ]
    },
    {
     "name": "stderr",
     "output_type": "stream",
     "text": [
      "100%|██████████| 11138/11138 [06:33<00:00, 28.31it/s]\n"
     ]
    },
    {
     "name": "stdout",
     "output_type": "stream",
     "text": [
      "Loaded all train Kaggle spectrograms into memory\n"
     ]
    }
   ],
   "source": [
    "kaggle_spectrograms_dir = DATA_PATH / \"train_spectrograms\"\n",
    "kaggle_spectrogram_files = list(kaggle_spectrograms_dir.glob(\"*.parquet\"))\n",
    "print(f\"Found {len(kaggle_spectrogram_files)} train Kaggle spectrogram files to load into memory\")\n",
    "\n",
    "def get_kaggle_spectrogram_content(spectrogram_file: pathlib.Path):\n",
    "  eeg_id = int(spectrogram_file.stem.split(\"_\")[-1])\n",
    "  content = pd.read_parquet(file)\n",
    "  content = content.drop(columns=[\"time\"]).values\n",
    "  return eeg_id, content\n",
    "\n",
    "kaggle_spectrograms = {}\n",
    "for file in tqdm(kaggle_spectrogram_files):\n",
    "  eeg_id, content = get_kaggle_spectrogram_content(file)\n",
    "  kaggle_spectrograms[eeg_id] = content\n",
    "\n",
    "gc.collect()\n",
    "print(\"Loaded all train Kaggle spectrograms into memory\")"
   ]
  },
  {
   "cell_type": "code",
   "execution_count": 25,
   "metadata": {},
   "outputs": [
    {
     "name": "stdout",
     "output_type": "stream",
     "text": [
      "Found 17089 train EEG spectrogram files to load into memory\n"
     ]
    },
    {
     "name": "stderr",
     "output_type": "stream",
     "text": [
      "100%|██████████| 17089/17089 [02:57<00:00, 96.52it/s] "
     ]
    },
    {
     "name": "stdout",
     "output_type": "stream",
     "text": [
      "Loaded all train EEG spectrograms into memory\n"
     ]
    },
    {
     "name": "stderr",
     "output_type": "stream",
     "text": [
      "\n"
     ]
    }
   ],
   "source": [
    "eeg_spectrograms_dir = TRAIN_EEG_SPECTROGRAMS_PATH / EEG_SPECTROGRAMS_TYPE\n",
    "eeg_spectrogram_files = list(eeg_spectrograms_dir.glob(\"*.npy\"))\n",
    "print(f\"Found {len(eeg_spectrogram_files)} train EEG spectrogram files to load into memory\")\n",
    "\n",
    "def get_eeg_spectrogram_content(spectrogram_file: pathlib.Path):\n",
    "  spectrogram_id = int(spectrogram_file.stem.split(\"_\")[-1])\n",
    "  content = np.load(file)\n",
    "  return spectrogram_id, content\n",
    "\n",
    "eeg_spectrograms = {}\n",
    "for file in tqdm(eeg_spectrogram_files):\n",
    "  eeg_id, content = get_eeg_spectrogram_content(file)\n",
    "  eeg_spectrograms[eeg_id] = content\n",
    "\n",
    "gc.collect()\n",
    "print(\"Loaded all train EEG spectrograms into memory\")"
   ]
  },
  {
   "cell_type": "markdown",
   "metadata": {},
   "source": [
    "## Feature Engineering\n",
    "\n",
    "We need features for the XGBoost model.\n",
    "For this, we take the mean, min and max over time for all of the 400 spectrogram frequencies (100 per chain).\n",
    "We take the middle 10 minutes of all spectrograms.\n",
    "For each EEG ID, this produces 1200 features."
   ]
  },
  {
   "cell_type": "code",
   "execution_count": 26,
   "metadata": {},
   "outputs": [
    {
     "name": "stderr",
     "output_type": "stream",
     "text": [
      "100%|██████████| 17089/17089 [02:07<00:00, 134.55it/s]\n"
     ]
    }
   ],
   "source": [
    "KAGGLE_SPECTROGRAM_FREQUENCY_COUNT = 400 # each kaggle spectrogram has 400 frequency bins\n",
    "EEG_SPECTROGRAM_FREQUENCY_COUNT = 5*128 # each spectrogram has 640 frequency bins (including the central chain)\n",
    "\n",
    "FEATURES = [f\"spec_mean_freq_{x}_10m\" for x in range(KAGGLE_SPECTROGRAM_FREQUENCY_COUNT)]\n",
    "FEATURES += [f\"spec_min_freq_{x}_10m\" for x in range(KAGGLE_SPECTROGRAM_FREQUENCY_COUNT)]\n",
    "FEATURES += [f\"spec_max_freq_{x}_10m\" for x in range(KAGGLE_SPECTROGRAM_FREQUENCY_COUNT)]\n",
    "FEATURES += [f\"eeg_mean_freq_{x}_10s\" for x in range(EEG_SPECTROGRAM_FREQUENCY_COUNT)]\n",
    "FEATURES += [f\"spec_min_freq_{x}_10s\" for x in range(EEG_SPECTROGRAM_FREQUENCY_COUNT)]\n",
    "FEATURES += [f\"spec_max_freq_{x}_10s\" for x in range(EEG_SPECTROGRAM_FREQUENCY_COUNT)]\n",
    "data = np.zeros((len(train_df), len(FEATURES)))\n",
    "\n",
    "def extract_kaggle_spectrogram_features(time_window):\n",
    "  average_frequencies = np.nanmean(time_window, axis=0) # average over time\n",
    "  min_frequencies = np.nanmin(time_window, axis=0) # min over time\n",
    "  max_frequencies = np.nanmax(time_window, axis=0) # max over time\n",
    "  return average_frequencies, min_frequencies, max_frequencies\n",
    "\n",
    "def extract_train_kaggle_spectrogram_features(row, all_spectrograms):\n",
    "  spectrogram_id = int(row[\"spectrogram_id\"])\n",
    "  middle_offset = (row[\"min_offset\"] + row[\"max_offset\"]) // 2 # this the middle between the least spectrogram offset and greatest spectogram offset\n",
    "  row_index = int(middle_offset // 2) # each spectrogram row corresponds to 2s, so we divide by 2 to get the row index\n",
    "  window = np.array(all_spectrograms[spectrogram_id][row_index:row_index+300,:])\n",
    "  average_frequencies, min_frequencies, max_frequencies = extract_kaggle_spectrogram_features(window)\n",
    "  return average_frequencies, min_frequencies, max_frequencies\n",
    "\n",
    "def extract_eeg_spectrogram_features(row, all_spectrograms):\n",
    "  eeg_id = int(row[\"eeg_id\"])\n",
    "  eeg_spectrogram = all_spectrograms[eeg_id]\n",
    "  reshaped_eeg_spectrogram = np.zeros((640,256), dtype=\"float32\")\n",
    "  for j in range(5): # reshape the spectrogram by stacking the 5 channels vertically ([128,256,4] -> [640,256])\n",
    "    reshaped_eeg_spectrogram[128*j:128*(j+1),] = eeg_spectrogram[:,:,j]\n",
    "  reshaped_eeg_spectrogram = reshaped_eeg_spectrogram.T # transpose to have time on rows and frequencies on columns ([256,640])\n",
    "\n",
    "  # get the central 10 seconds\n",
    "  pixels_per_second = 256 / 50  # 5.12 pixels per second\n",
    "  duration_pixels = int(10 * pixels_per_second)  # 51 pixels for 10 seconds\n",
    "  center_pixel = 256 // 2  # 128\n",
    "  start_idx = center_pixel - duration_pixels // 2  # 128 - 25 = 103\n",
    "  end_idx = start_idx + duration_pixels  # 103 + 51 = 154\n",
    "  window = reshaped_eeg_spectrogram[start_idx:end_idx,:] # extract the central 10s window\n",
    "\n",
    "  average_frequencies, min_frequencies, max_frequencies = extract_kaggle_spectrogram_features(window)\n",
    "  return average_frequencies, min_frequencies, max_frequencies\n",
    "\n",
    "for i in tqdm(range(len(train_df)), total=len(train_df)):\n",
    "  row = train_df.iloc[i]\n",
    "  average_features_kaggle, min_features_kaggle, max_frequencies_kaggle = extract_train_kaggle_spectrogram_features(row, kaggle_spectrograms)\n",
    "  average_features_eeg, min_features_eeg, max_frequencies_eeg = extract_eeg_spectrogram_features(row, eeg_spectrograms)\n",
    "\n",
    "  data[i,:KAGGLE_SPECTROGRAM_FREQUENCY_COUNT] = average_features_kaggle\n",
    "  data[i,KAGGLE_SPECTROGRAM_FREQUENCY_COUNT:2*KAGGLE_SPECTROGRAM_FREQUENCY_COUNT] = min_features_kaggle\n",
    "  data[i,2*KAGGLE_SPECTROGRAM_FREQUENCY_COUNT:3*KAGGLE_SPECTROGRAM_FREQUENCY_COUNT] = max_frequencies_kaggle\n",
    "  data[i,3*KAGGLE_SPECTROGRAM_FREQUENCY_COUNT:3*KAGGLE_SPECTROGRAM_FREQUENCY_COUNT+EEG_SPECTROGRAM_FREQUENCY_COUNT] = average_features_eeg\n",
    "  data[i,3*KAGGLE_SPECTROGRAM_FREQUENCY_COUNT+EEG_SPECTROGRAM_FREQUENCY_COUNT:3*KAGGLE_SPECTROGRAM_FREQUENCY_COUNT+2*EEG_SPECTROGRAM_FREQUENCY_COUNT] = min_features_eeg\n",
    "  data[i,3*KAGGLE_SPECTROGRAM_FREQUENCY_COUNT+2*EEG_SPECTROGRAM_FREQUENCY_COUNT:3*KAGGLE_SPECTROGRAM_FREQUENCY_COUNT+3*EEG_SPECTROGRAM_FREQUENCY_COUNT] = max_frequencies_eeg"
   ]
  },
  {
   "cell_type": "code",
   "execution_count": 27,
   "metadata": {},
   "outputs": [
    {
     "data": {
      "text/html": [
       "<div>\n",
       "<style scoped>\n",
       "    .dataframe tbody tr th:only-of-type {\n",
       "        vertical-align: middle;\n",
       "    }\n",
       "\n",
       "    .dataframe tbody tr th {\n",
       "        vertical-align: top;\n",
       "    }\n",
       "\n",
       "    .dataframe thead th {\n",
       "        text-align: right;\n",
       "    }\n",
       "</style>\n",
       "<table border=\"1\" class=\"dataframe\">\n",
       "  <thead>\n",
       "    <tr style=\"text-align: right;\">\n",
       "      <th></th>\n",
       "      <th>eeg_id</th>\n",
       "      <th>spectrogram_id</th>\n",
       "      <th>patient_id</th>\n",
       "      <th>expert_consensus</th>\n",
       "      <th>seizure_vote</th>\n",
       "      <th>lpd_vote</th>\n",
       "      <th>gpd_vote</th>\n",
       "      <th>lrda_vote</th>\n",
       "      <th>grda_vote</th>\n",
       "      <th>other_vote</th>\n",
       "      <th>...</th>\n",
       "      <th>spec_max_freq_630_10s</th>\n",
       "      <th>spec_max_freq_631_10s</th>\n",
       "      <th>spec_max_freq_632_10s</th>\n",
       "      <th>spec_max_freq_633_10s</th>\n",
       "      <th>spec_max_freq_634_10s</th>\n",
       "      <th>spec_max_freq_635_10s</th>\n",
       "      <th>spec_max_freq_636_10s</th>\n",
       "      <th>spec_max_freq_637_10s</th>\n",
       "      <th>spec_max_freq_638_10s</th>\n",
       "      <th>spec_max_freq_639_10s</th>\n",
       "    </tr>\n",
       "  </thead>\n",
       "  <tbody>\n",
       "    <tr>\n",
       "      <th>0</th>\n",
       "      <td>568657</td>\n",
       "      <td>789577333</td>\n",
       "      <td>20654</td>\n",
       "      <td>Other</td>\n",
       "      <td>0.0</td>\n",
       "      <td>0.000000</td>\n",
       "      <td>0.25</td>\n",
       "      <td>0.000000</td>\n",
       "      <td>0.166667</td>\n",
       "      <td>0.583333</td>\n",
       "      <td>...</td>\n",
       "      <td>0.696763</td>\n",
       "      <td>0.706355</td>\n",
       "      <td>0.720342</td>\n",
       "      <td>0.730382</td>\n",
       "      <td>0.739936</td>\n",
       "      <td>0.745822</td>\n",
       "      <td>0.749742</td>\n",
       "      <td>0.751327</td>\n",
       "      <td>0.762009</td>\n",
       "      <td>0.768977</td>\n",
       "    </tr>\n",
       "    <tr>\n",
       "      <th>1</th>\n",
       "      <td>582999</td>\n",
       "      <td>1552638400</td>\n",
       "      <td>20230</td>\n",
       "      <td>LPD</td>\n",
       "      <td>0.0</td>\n",
       "      <td>0.857143</td>\n",
       "      <td>0.00</td>\n",
       "      <td>0.071429</td>\n",
       "      <td>0.000000</td>\n",
       "      <td>0.071429</td>\n",
       "      <td>...</td>\n",
       "      <td>0.879343</td>\n",
       "      <td>0.890854</td>\n",
       "      <td>0.908050</td>\n",
       "      <td>0.924625</td>\n",
       "      <td>0.940498</td>\n",
       "      <td>0.955845</td>\n",
       "      <td>0.970025</td>\n",
       "      <td>0.981525</td>\n",
       "      <td>0.990747</td>\n",
       "      <td>0.996359</td>\n",
       "    </tr>\n",
       "    <tr>\n",
       "      <th>2</th>\n",
       "      <td>642382</td>\n",
       "      <td>14960202</td>\n",
       "      <td>5955</td>\n",
       "      <td>Other</td>\n",
       "      <td>0.0</td>\n",
       "      <td>0.000000</td>\n",
       "      <td>0.00</td>\n",
       "      <td>0.000000</td>\n",
       "      <td>0.000000</td>\n",
       "      <td>1.000000</td>\n",
       "      <td>...</td>\n",
       "      <td>0.816606</td>\n",
       "      <td>0.828744</td>\n",
       "      <td>0.841835</td>\n",
       "      <td>0.857630</td>\n",
       "      <td>0.868275</td>\n",
       "      <td>0.877941</td>\n",
       "      <td>0.885635</td>\n",
       "      <td>0.886907</td>\n",
       "      <td>0.891141</td>\n",
       "      <td>0.892733</td>\n",
       "    </tr>\n",
       "    <tr>\n",
       "      <th>3</th>\n",
       "      <td>751790</td>\n",
       "      <td>618728447</td>\n",
       "      <td>38549</td>\n",
       "      <td>GPD</td>\n",
       "      <td>0.0</td>\n",
       "      <td>0.000000</td>\n",
       "      <td>1.00</td>\n",
       "      <td>0.000000</td>\n",
       "      <td>0.000000</td>\n",
       "      <td>0.000000</td>\n",
       "      <td>...</td>\n",
       "      <td>0.665133</td>\n",
       "      <td>0.633162</td>\n",
       "      <td>0.623576</td>\n",
       "      <td>0.657301</td>\n",
       "      <td>0.664624</td>\n",
       "      <td>0.682423</td>\n",
       "      <td>0.676099</td>\n",
       "      <td>0.677395</td>\n",
       "      <td>0.675104</td>\n",
       "      <td>0.663505</td>\n",
       "    </tr>\n",
       "    <tr>\n",
       "      <th>4</th>\n",
       "      <td>778705</td>\n",
       "      <td>52296320</td>\n",
       "      <td>40955</td>\n",
       "      <td>Other</td>\n",
       "      <td>0.0</td>\n",
       "      <td>0.000000</td>\n",
       "      <td>0.00</td>\n",
       "      <td>0.000000</td>\n",
       "      <td>0.000000</td>\n",
       "      <td>1.000000</td>\n",
       "      <td>...</td>\n",
       "      <td>0.589620</td>\n",
       "      <td>0.584764</td>\n",
       "      <td>0.583061</td>\n",
       "      <td>0.576891</td>\n",
       "      <td>0.560683</td>\n",
       "      <td>0.563658</td>\n",
       "      <td>0.560212</td>\n",
       "      <td>0.582349</td>\n",
       "      <td>0.599415</td>\n",
       "      <td>0.608775</td>\n",
       "    </tr>\n",
       "  </tbody>\n",
       "</table>\n",
       "<p>5 rows × 3132 columns</p>\n",
       "</div>"
      ],
      "text/plain": [
       "   eeg_id  spectrogram_id  patient_id expert_consensus  seizure_vote  \\\n",
       "0  568657       789577333       20654            Other           0.0   \n",
       "1  582999      1552638400       20230              LPD           0.0   \n",
       "2  642382        14960202        5955            Other           0.0   \n",
       "3  751790       618728447       38549              GPD           0.0   \n",
       "4  778705        52296320       40955            Other           0.0   \n",
       "\n",
       "   lpd_vote  gpd_vote  lrda_vote  grda_vote  other_vote  ...  \\\n",
       "0  0.000000      0.25   0.000000   0.166667    0.583333  ...   \n",
       "1  0.857143      0.00   0.071429   0.000000    0.071429  ...   \n",
       "2  0.000000      0.00   0.000000   0.000000    1.000000  ...   \n",
       "3  0.000000      1.00   0.000000   0.000000    0.000000  ...   \n",
       "4  0.000000      0.00   0.000000   0.000000    1.000000  ...   \n",
       "\n",
       "   spec_max_freq_630_10s  spec_max_freq_631_10s  spec_max_freq_632_10s  \\\n",
       "0               0.696763               0.706355               0.720342   \n",
       "1               0.879343               0.890854               0.908050   \n",
       "2               0.816606               0.828744               0.841835   \n",
       "3               0.665133               0.633162               0.623576   \n",
       "4               0.589620               0.584764               0.583061   \n",
       "\n",
       "   spec_max_freq_633_10s  spec_max_freq_634_10s  spec_max_freq_635_10s  \\\n",
       "0               0.730382               0.739936               0.745822   \n",
       "1               0.924625               0.940498               0.955845   \n",
       "2               0.857630               0.868275               0.877941   \n",
       "3               0.657301               0.664624               0.682423   \n",
       "4               0.576891               0.560683               0.563658   \n",
       "\n",
       "   spec_max_freq_636_10s  spec_max_freq_637_10s  spec_max_freq_638_10s  \\\n",
       "0               0.749742               0.751327               0.762009   \n",
       "1               0.970025               0.981525               0.990747   \n",
       "2               0.885635               0.886907               0.891141   \n",
       "3               0.676099               0.677395               0.675104   \n",
       "4               0.560212               0.582349               0.599415   \n",
       "\n",
       "   spec_max_freq_639_10s  \n",
       "0               0.768977  \n",
       "1               0.996359  \n",
       "2               0.892733  \n",
       "3               0.663505  \n",
       "4               0.608775  \n",
       "\n",
       "[5 rows x 3132 columns]"
      ]
     },
     "execution_count": 27,
     "metadata": {},
     "output_type": "execute_result"
    }
   ],
   "source": [
    "warnings.filterwarnings(\"ignore\", category=pd.errors.PerformanceWarning)\n",
    "train_df[FEATURES] = data\n",
    "\n",
    "gc.collect()\n",
    "\n",
    "train_df.head()"
   ]
  },
  {
   "cell_type": "markdown",
   "metadata": {},
   "source": [
    "## Train XGBoost Model"
   ]
  },
  {
   "cell_type": "code",
   "execution_count": 28,
   "metadata": {},
   "outputs": [],
   "source": [
    "N_SPLITS = 5"
   ]
  },
  {
   "cell_type": "code",
   "execution_count": 29,
   "metadata": {},
   "outputs": [],
   "source": [
    "fold_creator = KFoldCreator(n_splits=N_SPLITS, seed=Constants.SEED)\n",
    "train_folds_df = fold_creator.create_folds(\n",
    "    df=train_df, stratify_col=\"expert_consensus\", group_col=\"patient_id\"\n",
    ")"
   ]
  },
  {
   "cell_type": "code",
   "execution_count": 30,
   "metadata": {},
   "outputs": [
    {
     "name": "stdout",
     "output_type": "stream",
     "text": [
      "========================================\n",
      "FOLD 0\n",
      "Train size: 13022, Valid size: 4067\n",
      "==============================\n",
      "[0]\teval-mlogloss:1.61136\n",
      "[33]\teval-mlogloss:1.28431\n",
      "========================================\n",
      "FOLD 1\n",
      "Train size: 13431, Valid size: 3658\n",
      "==============================\n",
      "[0]\teval-mlogloss:1.57259\n",
      "[50]\teval-mlogloss:1.02083\n",
      "========================================\n",
      "FOLD 2\n",
      "Train size: 13708, Valid size: 3381\n",
      "==============================\n",
      "[0]\teval-mlogloss:1.57379\n",
      "[49]\teval-mlogloss:1.07309\n",
      "========================================\n",
      "FOLD 3\n",
      "Train size: 14464, Valid size: 2625\n",
      "==============================\n",
      "[0]\teval-mlogloss:1.58194\n",
      "[36]\teval-mlogloss:1.14563\n",
      "========================================\n",
      "FOLD 4\n",
      "Train size: 13731, Valid size: 3358\n",
      "==============================\n",
      "[0]\teval-mlogloss:1.57938\n",
      "[36]\teval-mlogloss:1.08854\n"
     ]
    }
   ],
   "source": [
    "all_oof = []\n",
    "all_true = []\n",
    "targets_dict = {\"Seizure\":0, \"LPD\":1, \"GPD\":2, \"LRDA\":3, \"GRDA\":4, \"Other\":5}\n",
    "\n",
    "models_save_path = get_models_save_path() / \"xgboost\" / \"spectrogram_means\" / DATA_PREPARATION_VOTE_METHOD\n",
    "models_save_path.mkdir(parents=True, exist_ok=True)\n",
    "\n",
    "for fold in range(N_SPLITS):\n",
    "    fold_train_df = train_folds_df[train_folds_df[\"fold\"] != fold].reset_index(drop=True)\n",
    "    fold_valid_df = train_folds_df[train_folds_df[\"fold\"] == fold].reset_index(drop=True)\n",
    "\n",
    "    print(\"=\" * 40)\n",
    "    print(f\"FOLD {fold}\")\n",
    "    print(f\"Train size: {len(fold_train_df)}, Valid size: {len(fold_valid_df)}\")\n",
    "    print(\"=\" * 30)\n",
    "\n",
    "    X_train = fold_train_df[FEATURES]\n",
    "    y_train = fold_train_df[\"expert_consensus\"].map(targets_dict)\n",
    "    \n",
    "    X_valid = fold_valid_df[FEATURES]\n",
    "    y_valid = fold_valid_df[\"expert_consensus\"].map(targets_dict)\n",
    "\n",
    "    dtrain = xgb.DMatrix(X_train, label=y_train)\n",
    "    dvalid = xgb.DMatrix(X_valid, label=y_valid)\n",
    "\n",
    "    params = {\n",
    "        \"objective\": \"multi:softprob\",\n",
    "        \"num_class\": len(Constants.TARGETS),\n",
    "        \"device\": \"cuda\",\n",
    "        \"tree_method\": \"hist\",\n",
    "        \"eval_metric\": \"mlogloss\",\n",
    "        \"seed\": Constants.SEED,\n",
    "    }\n",
    "\n",
    "    evals = [(dvalid, \"eval\")]\n",
    "    model = xgb.train(\n",
    "        params,\n",
    "        dtrain,\n",
    "        num_boost_round=300,\n",
    "        evals=evals,\n",
    "        verbose_eval=100,\n",
    "        early_stopping_rounds=10,\n",
    "    )\n",
    "    \n",
    "    model.save_model(models_save_path / f\"fold_{fold}.json\")\n",
    "\n",
    "    oof = model.predict(dvalid)\n",
    "    all_oof.extend(oof)\n",
    "\n",
    "    all_true.extend(fold_valid_df[Constants.TARGETS].values)\n",
    "\n",
    "    del X_train, y_train, X_valid, y_valid, dtrain, dvalid, oof\n",
    "    gc.collect()\n",
    "\n",
    "all_oof = np.array(all_oof)\n",
    "all_true = np.array(all_true)"
   ]
  },
  {
   "cell_type": "markdown",
   "metadata": {},
   "source": [
    "## CV Score"
   ]
  },
  {
   "cell_type": "code",
   "execution_count": 31,
   "metadata": {},
   "outputs": [
    {
     "name": "stdout",
     "output_type": "stream",
     "text": [
      "OOF KL Score: 0.9043303728103638\n"
     ]
    }
   ],
   "source": [
    "all_oof_tensor = torch.tensor(all_oof, dtype=torch.float32)\n",
    "all_true_tensor = torch.tensor(all_true, dtype=torch.float32)\n",
    "\n",
    "kl_score = nn.KLDivLoss(reduction=\"batchmean\")\n",
    "score = kl_score(all_oof_tensor.log(), all_true_tensor).item()\n",
    "\n",
    "print(f\"OOF KL Score: {score}\")"
   ]
  },
  {
   "cell_type": "markdown",
   "metadata": {},
   "source": [
    "## Create EEG Spectrograms for Test Set"
   ]
  },
  {
   "cell_type": "code",
   "execution_count": 32,
   "metadata": {},
   "outputs": [],
   "source": [
    "test_eeg_save_path = TEST_EEG_SPECTROGRAMS_PATH / EEG_SPECTROGRAMS_TYPE\n",
    "test_eeg_save_path.mkdir(parents=True, exist_ok=True)\n",
    "\n",
    "spectrogram_creator = EEGSpectrogramGenerator([EEG_SPECTROGRAMS_TYPE])"
   ]
  },
  {
   "cell_type": "code",
   "execution_count": 33,
   "metadata": {},
   "outputs": [
    {
     "name": "stdout",
     "output_type": "stream",
     "text": [
      "Generating spectrograms for 1 test EEG recordings\n"
     ]
    },
    {
     "name": "stderr",
     "output_type": "stream",
     "text": [
      "100%|██████████| 1/1 [00:02<00:00,  2.20s/it]\n"
     ]
    }
   ],
   "source": [
    "test_eeg_ids = test_df[\"eeg_id\"].unique()\n",
    "print(f\"Generating spectrograms for {len(test_eeg_ids)} test EEG recordings\")\n",
    "\n",
    "test_eeg_spectrograms = {}\n",
    "for i, eeg_id in enumerate(tqdm(test_eeg_ids)):\n",
    "  eeg = pd.read_parquet(DATA_PATH / \"test_eegs\" / f\"{eeg_id}.parquet\")\n",
    "  spectrogram = spectrogram_creator.generate(eeg)\n",
    "\n",
    "  assert len(spectrogram) == 1, \"Expected only one spectrogram type\"\n",
    "  test_eeg_spectrograms[eeg_id] = spectrogram[EEG_SPECTROGRAMS_TYPE]"
   ]
  },
  {
   "cell_type": "markdown",
   "metadata": {},
   "source": [
    "## Infer on Test and create Submission"
   ]
  },
  {
   "cell_type": "code",
   "execution_count": 34,
   "metadata": {},
   "outputs": [
    {
     "data": {
      "text/plain": [
       "0"
      ]
     },
     "execution_count": 34,
     "metadata": {},
     "output_type": "execute_result"
    }
   ],
   "source": [
    "del train_df\n",
    "gc.collect()"
   ]
  },
  {
   "cell_type": "code",
   "execution_count": 35,
   "metadata": {},
   "outputs": [
    {
     "name": "stdout",
     "output_type": "stream",
     "text": [
      "Found 1 test spectrogram files to load into memory\n"
     ]
    },
    {
     "name": "stderr",
     "output_type": "stream",
     "text": [
      "100%|██████████| 1/1 [00:00<00:00, 17.50it/s]"
     ]
    },
    {
     "name": "stdout",
     "output_type": "stream",
     "text": [
      "Loaded all test spectrograms into memory\n"
     ]
    },
    {
     "name": "stderr",
     "output_type": "stream",
     "text": [
      "\n"
     ]
    }
   ],
   "source": [
    "test_spectrograms_dir = DATA_PATH / \"test_spectrograms\"\n",
    "test_spectrogram_files = list(test_spectrograms_dir.glob(\"*.parquet\"))\n",
    "print(f\"Found {len(test_spectrogram_files)} test spectrogram files to load into memory\")\n",
    "\n",
    "test_spectrograms = {}\n",
    "for file in tqdm(test_spectrogram_files):\n",
    "  eeg_id, content = get_kaggle_spectrogram_content(file)\n",
    "  test_spectrograms[eeg_id] = content\n",
    "\n",
    "gc.collect()\n",
    "print(\"Loaded all test spectrograms into memory\")"
   ]
  },
  {
   "cell_type": "code",
   "execution_count": 36,
   "metadata": {},
   "outputs": [
    {
     "name": "stderr",
     "output_type": "stream",
     "text": [
      "100%|██████████| 1/1 [00:00<00:00, 111.78it/s]\n"
     ]
    }
   ],
   "source": [
    "test_data = np.zeros((len(test_df), len(FEATURES)))\n",
    "\n",
    "def extract_test_spectrogram_features(row, all_spectrograms):\n",
    "  # this differs from train because all test spectrograms are exactly 10 minutes long, so we don't need to extract the center window\n",
    "  spectrogram_id = int(row[\"spectrogram_id\"])\n",
    "  content = np.array(all_spectrograms[spectrogram_id][:])\n",
    "  average_frequencies, min_frequencies, max_frequencies = extract_kaggle_spectrogram_features(content)\n",
    "  return average_frequencies, min_frequencies, max_frequencies\n",
    "\n",
    "for i in tqdm(range(len(test_df)), total=len(test_df)):\n",
    "  row = test_df.iloc[i]\n",
    "  average_features_kaggle, min_features_kaggle, max_frequencies_kaggle = extract_test_spectrogram_features(row, test_spectrograms)\n",
    "  average_features_eeg, min_features_eeg, max_frequencies_eeg = extract_eeg_spectrogram_features(row, test_eeg_spectrograms)\n",
    "\n",
    "  test_data[i,:KAGGLE_SPECTROGRAM_FREQUENCY_COUNT] = average_features_kaggle\n",
    "  test_data[i,KAGGLE_SPECTROGRAM_FREQUENCY_COUNT:2*KAGGLE_SPECTROGRAM_FREQUENCY_COUNT] = min_features_kaggle\n",
    "  test_data[i,2*KAGGLE_SPECTROGRAM_FREQUENCY_COUNT:3*KAGGLE_SPECTROGRAM_FREQUENCY_COUNT] = max_frequencies_kaggle\n",
    "  test_data[i,3*KAGGLE_SPECTROGRAM_FREQUENCY_COUNT:3*KAGGLE_SPECTROGRAM_FREQUENCY_COUNT+EEG_SPECTROGRAM_FREQUENCY_COUNT] = average_features_eeg\n",
    "  test_data[i,3*KAGGLE_SPECTROGRAM_FREQUENCY_COUNT+EEG_SPECTROGRAM_FREQUENCY_COUNT:3*KAGGLE_SPECTROGRAM_FREQUENCY_COUNT+2*EEG_SPECTROGRAM_FREQUENCY_COUNT] = min_features_eeg\n",
    "  test_data[i,3*KAGGLE_SPECTROGRAM_FREQUENCY_COUNT+2*EEG_SPECTROGRAM_FREQUENCY_COUNT:3*KAGGLE_SPECTROGRAM_FREQUENCY_COUNT+3*EEG_SPECTROGRAM_FREQUENCY_COUNT] = max_frequencies_eeg"
   ]
  },
  {
   "cell_type": "code",
   "execution_count": 37,
   "metadata": {},
   "outputs": [
    {
     "data": {
      "text/html": [
       "<div>\n",
       "<style scoped>\n",
       "    .dataframe tbody tr th:only-of-type {\n",
       "        vertical-align: middle;\n",
       "    }\n",
       "\n",
       "    .dataframe tbody tr th {\n",
       "        vertical-align: top;\n",
       "    }\n",
       "\n",
       "    .dataframe thead th {\n",
       "        text-align: right;\n",
       "    }\n",
       "</style>\n",
       "<table border=\"1\" class=\"dataframe\">\n",
       "  <thead>\n",
       "    <tr style=\"text-align: right;\">\n",
       "      <th></th>\n",
       "      <th>spectrogram_id</th>\n",
       "      <th>eeg_id</th>\n",
       "      <th>patient_id</th>\n",
       "      <th>spec_mean_freq_0_10m</th>\n",
       "      <th>spec_mean_freq_1_10m</th>\n",
       "      <th>spec_mean_freq_2_10m</th>\n",
       "      <th>spec_mean_freq_3_10m</th>\n",
       "      <th>spec_mean_freq_4_10m</th>\n",
       "      <th>spec_mean_freq_5_10m</th>\n",
       "      <th>spec_mean_freq_6_10m</th>\n",
       "      <th>...</th>\n",
       "      <th>spec_max_freq_630_10s</th>\n",
       "      <th>spec_max_freq_631_10s</th>\n",
       "      <th>spec_max_freq_632_10s</th>\n",
       "      <th>spec_max_freq_633_10s</th>\n",
       "      <th>spec_max_freq_634_10s</th>\n",
       "      <th>spec_max_freq_635_10s</th>\n",
       "      <th>spec_max_freq_636_10s</th>\n",
       "      <th>spec_max_freq_637_10s</th>\n",
       "      <th>spec_max_freq_638_10s</th>\n",
       "      <th>spec_max_freq_639_10s</th>\n",
       "    </tr>\n",
       "  </thead>\n",
       "  <tbody>\n",
       "    <tr>\n",
       "      <th>0</th>\n",
       "      <td>853520</td>\n",
       "      <td>3911565283</td>\n",
       "      <td>6885</td>\n",
       "      <td>16.864132</td>\n",
       "      <td>19.120565</td>\n",
       "      <td>18.342468</td>\n",
       "      <td>13.408634</td>\n",
       "      <td>8.0575</td>\n",
       "      <td>4.890133</td>\n",
       "      <td>3.460633</td>\n",
       "      <td>...</td>\n",
       "      <td>0.855498</td>\n",
       "      <td>0.844325</td>\n",
       "      <td>0.8336</td>\n",
       "      <td>0.825578</td>\n",
       "      <td>0.818686</td>\n",
       "      <td>0.825944</td>\n",
       "      <td>0.840221</td>\n",
       "      <td>0.861681</td>\n",
       "      <td>0.882156</td>\n",
       "      <td>0.89733</td>\n",
       "    </tr>\n",
       "  </tbody>\n",
       "</table>\n",
       "<p>1 rows × 3123 columns</p>\n",
       "</div>"
      ],
      "text/plain": [
       "   spectrogram_id      eeg_id  patient_id  spec_mean_freq_0_10m  \\\n",
       "0          853520  3911565283        6885             16.864132   \n",
       "\n",
       "   spec_mean_freq_1_10m  spec_mean_freq_2_10m  spec_mean_freq_3_10m  \\\n",
       "0             19.120565             18.342468             13.408634   \n",
       "\n",
       "   spec_mean_freq_4_10m  spec_mean_freq_5_10m  spec_mean_freq_6_10m  ...  \\\n",
       "0                8.0575              4.890133              3.460633  ...   \n",
       "\n",
       "   spec_max_freq_630_10s  spec_max_freq_631_10s  spec_max_freq_632_10s  \\\n",
       "0               0.855498               0.844325                 0.8336   \n",
       "\n",
       "   spec_max_freq_633_10s  spec_max_freq_634_10s  spec_max_freq_635_10s  \\\n",
       "0               0.825578               0.818686               0.825944   \n",
       "\n",
       "   spec_max_freq_636_10s  spec_max_freq_637_10s  spec_max_freq_638_10s  \\\n",
       "0               0.840221               0.861681               0.882156   \n",
       "\n",
       "   spec_max_freq_639_10s  \n",
       "0                0.89733  \n",
       "\n",
       "[1 rows x 3123 columns]"
      ]
     },
     "execution_count": 37,
     "metadata": {},
     "output_type": "execute_result"
    }
   ],
   "source": [
    "test_df[FEATURES] = test_data\n",
    "\n",
    "del test_data\n",
    "del test_spectrograms\n",
    "gc.collect()\n",
    "\n",
    "test_df.head()"
   ]
  },
  {
   "cell_type": "code",
   "execution_count": 38,
   "metadata": {},
   "outputs": [
    {
     "name": "stdout",
     "output_type": "stream",
     "text": [
      "========================================\n",
      "Predicting fold 0\n",
      "========================================\n",
      "========================================\n",
      "Predicting fold 1\n",
      "========================================\n",
      "========================================\n",
      "Predicting fold 2\n",
      "========================================\n",
      "========================================\n",
      "Predicting fold 3\n",
      "========================================\n",
      "========================================\n",
      "Predicting fold 4\n",
      "========================================\n",
      "Test predictions shape: (1, 6)\n"
     ]
    }
   ],
   "source": [
    "test_preds = []\n",
    "\n",
    "for fold in range(N_SPLITS):\n",
    "  print(\"=\" * 40)\n",
    "  print(f\"Predicting fold {fold}\")\n",
    "  print(\"=\" * 40)\n",
    "\n",
    "  X_train = test_df[FEATURES]\n",
    "  dtest = xgb.DMatrix(X_train)\n",
    "\n",
    "  model = xgb.Booster()\n",
    "  model.load_model(models_save_path / f\"fold_{fold}.json\")\n",
    "\n",
    "  preds = model.predict(dtest)\n",
    "  test_preds.append(preds)\n",
    "\n",
    "test_preds = np.mean(test_preds, axis=0)\n",
    "print(f\"Test predictions shape: {test_preds.shape}\")"
   ]
  },
  {
   "cell_type": "code",
   "execution_count": 39,
   "metadata": {},
   "outputs": [],
   "source": [
    "# sanity check: all predictions should sum to 1\n",
    "assert np.allclose(test_preds.sum(axis=1), 1.0)"
   ]
  },
  {
   "cell_type": "code",
   "execution_count": 40,
   "metadata": {},
   "outputs": [],
   "source": [
    "submission = pd.DataFrame({\"eeg_id\": test_df[\"eeg_id\"]})\n",
    "submission[Constants.TARGETS] = test_preds\n",
    "\n",
    "submission.to_csv(get_submission_csv_path(), index=False)"
   ]
  }
 ],
 "metadata": {
  "kernelspec": {
   "display_name": "aicomp",
   "language": "python",
   "name": "python3"
  },
  "language_info": {
   "codemirror_mode": {
    "name": "ipython",
    "version": 3
   },
   "file_extension": ".py",
   "mimetype": "text/x-python",
   "name": "python",
   "nbconvert_exporter": "python",
   "pygments_lexer": "ipython3",
   "version": "3.12.11"
  }
 },
 "nbformat": 4,
 "nbformat_minor": 2
}
