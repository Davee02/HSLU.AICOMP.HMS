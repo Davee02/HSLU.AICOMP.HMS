{
 "cells": [
  {
   "cell_type": "code",
   "execution_count": null,
   "id": "222d458b",
   "metadata": {},
   "outputs": [
    {
     "name": "stderr",
     "output_type": "stream",
     "text": [
      "2025-10-16 16:56:36,735 :: root :: INFO :: Initialising Utils\n",
      "2025-10-16 16:56:36,736 :: root :: INFO :: Initialising Datasets\n",
      "\u001b[34m\u001b[1mwandb\u001b[0m: Currently logged in as: \u001b[33mmaikotrede\u001b[0m (\u001b[33mhms-hslu-aicomp-hs25\u001b[0m) to \u001b[32mhttps://api.wandb.ai\u001b[0m. Use \u001b[1m`wandb login --relogin`\u001b[0m to force relogin\n"
     ]
    },
    {
     "name": "stdout",
     "output_type": "stream",
     "text": [
      "Preparing data and creating folds...\n",
      "Train shape: (17089, 12)\n",
      "Targets ['seizure_vote', 'lpd_vote', 'gpd_vote', 'lrda_vote', 'grda_vote', 'other_vote']\n",
      "Folds created. Value counts per fold:\n",
      "fold\n",
      "0    3741\n",
      "1    3703\n",
      "2    3527\n",
      "4    3081\n",
      "3    3037\n",
      "Name: count, dtype: int64\n",
      "Using device: cuda\n",
      "\n",
      "========== FOLD 0 ==========\n"
     ]
    },
    {
     "data": {
      "text/html": [],
      "text/plain": [
       "<IPython.core.display.HTML object>"
      ]
     },
     "metadata": {},
     "output_type": "display_data"
    },
    {
     "data": {
      "text/html": [
       "Tracking run with wandb version 0.22.1"
      ],
      "text/plain": [
       "<IPython.core.display.HTML object>"
      ]
     },
     "metadata": {},
     "output_type": "display_data"
    },
    {
     "data": {
      "text/html": [
       "Run data is saved locally in <code>/home/maiko/Documents/HSLU/AICOMP/HSLU.AICOMP.HMS/notebooks/models/TCN/wandb/run-20251016_165637-h8ykqlru</code>"
      ],
      "text/plain": [
       "<IPython.core.display.HTML object>"
      ]
     },
     "metadata": {},
     "output_type": "display_data"
    },
    {
     "data": {
      "text/html": [
       "Syncing run <strong><a href='https://wandb.ai/hms-hslu-aicomp-hs25/hms-aicomp-tcn/runs/h8ykqlru' target=\"_blank\">tcn-raw-eeg-fold0</a></strong> to <a href='https://wandb.ai/hms-hslu-aicomp-hs25/hms-aicomp-tcn' target=\"_blank\">Weights & Biases</a> (<a href='https://wandb.me/developer-guide' target=\"_blank\">docs</a>)<br>"
      ],
      "text/plain": [
       "<IPython.core.display.HTML object>"
      ]
     },
     "metadata": {},
     "output_type": "display_data"
    },
    {
     "data": {
      "text/html": [
       " View project at <a href='https://wandb.ai/hms-hslu-aicomp-hs25/hms-aicomp-tcn' target=\"_blank\">https://wandb.ai/hms-hslu-aicomp-hs25/hms-aicomp-tcn</a>"
      ],
      "text/plain": [
       "<IPython.core.display.HTML object>"
      ]
     },
     "metadata": {},
     "output_type": "display_data"
    },
    {
     "data": {
      "text/html": [
       " View run at <a href='https://wandb.ai/hms-hslu-aicomp-hs25/hms-aicomp-tcn/runs/h8ykqlru' target=\"_blank\">https://wandb.ai/hms-hslu-aicomp-hs25/hms-aicomp-tcn/runs/h8ykqlru</a>"
      ],
      "text/plain": [
       "<IPython.core.display.HTML object>"
      ]
     },
     "metadata": {},
     "output_type": "display_data"
    },
    {
     "name": "stdout",
     "output_type": "stream",
     "text": [
      "   --- Epoch 1/15 ---\n"
     ]
    },
    {
     "data": {
      "application/vnd.jupyter.widget-view+json": {
       "model_id": "ea8e4b469fd249b0a4a3d3ae965f8ce7",
       "version_major": 2,
       "version_minor": 0
      },
      "text/plain": [
       "Training:   0%|          | 0/417 [00:00<?, ?it/s]"
      ]
     },
     "metadata": {},
     "output_type": "display_data"
    },
    {
     "name": "stdout",
     "output_type": "stream",
     "text": [
      "\n",
      "--- Data Shape Verification ---\n",
      "Shape of one training batch (batch, seq_len, channels): torch.Size([32, 3334, 20])\n",
      "Calculated sequence length in CFG: 3300\n",
      "Downsampling enabled: True, Factor: 3\n",
      "--- End Verification ---\n",
      "\n"
     ]
    },
    {
     "data": {
      "application/vnd.jupyter.widget-view+json": {
       "model_id": "d983afa687534d75ba5a19b2a4d64bdf",
       "version_major": 2,
       "version_minor": 0
      },
      "text/plain": [
       "Validation:   0%|          | 0/117 [00:00<?, ?it/s]"
      ]
     },
     "metadata": {},
     "output_type": "display_data"
    },
    {
     "name": "stdout",
     "output_type": "stream",
     "text": [
      "   Epoch 1: Train Loss = 1.2291, Valid Loss = 1.2715, LR = 0.000100\n",
      "   New best model saved with validation loss: 1.2715\n",
      "   --- Epoch 2/15 ---\n"
     ]
    },
    {
     "data": {
      "application/vnd.jupyter.widget-view+json": {
       "model_id": "6dd165951cfc4f4ab9e8bb2a2e4f6982",
       "version_major": 2,
       "version_minor": 0
      },
      "text/plain": [
       "Training:   0%|          | 0/417 [00:00<?, ?it/s]"
      ]
     },
     "metadata": {},
     "output_type": "display_data"
    },
    {
     "data": {
      "application/vnd.jupyter.widget-view+json": {
       "model_id": "766fe55c6b934280a96a7de5a196d50c",
       "version_major": 2,
       "version_minor": 0
      },
      "text/plain": [
       "Validation:   0%|          | 0/117 [00:00<?, ?it/s]"
      ]
     },
     "metadata": {},
     "output_type": "display_data"
    },
    {
     "name": "stdout",
     "output_type": "stream",
     "text": [
      "   Epoch 2: Train Loss = 1.0890, Valid Loss = 1.1452, LR = 0.000099\n",
      "   New best model saved with validation loss: 1.1452\n",
      "   --- Epoch 3/15 ---\n"
     ]
    },
    {
     "data": {
      "application/vnd.jupyter.widget-view+json": {
       "model_id": "4d5e2c1db7434a47ae918f0ff0a8fb75",
       "version_major": 2,
       "version_minor": 0
      },
      "text/plain": [
       "Training:   0%|          | 0/417 [00:00<?, ?it/s]"
      ]
     },
     "metadata": {},
     "output_type": "display_data"
    },
    {
     "data": {
      "application/vnd.jupyter.widget-view+json": {
       "model_id": "de410f018db94f729020737eea2d6957",
       "version_major": 2,
       "version_minor": 0
      },
      "text/plain": [
       "Validation:   0%|          | 0/117 [00:00<?, ?it/s]"
      ]
     },
     "metadata": {},
     "output_type": "display_data"
    },
    {
     "name": "stdout",
     "output_type": "stream",
     "text": [
      "   Epoch 3: Train Loss = 0.9202, Valid Loss = 0.9583, LR = 0.000096\n",
      "   New best model saved with validation loss: 0.9583\n",
      "   --- Epoch 4/15 ---\n"
     ]
    },
    {
     "data": {
      "application/vnd.jupyter.widget-view+json": {
       "model_id": "bcf8b5488c664bfcae3e94f83309d6c2",
       "version_major": 2,
       "version_minor": 0
      },
      "text/plain": [
       "Training:   0%|          | 0/417 [00:00<?, ?it/s]"
      ]
     },
     "metadata": {},
     "output_type": "display_data"
    },
    {
     "data": {
      "application/vnd.jupyter.widget-view+json": {
       "model_id": "7dc13e108ac8458da659ab1f87f16cb7",
       "version_major": 2,
       "version_minor": 0
      },
      "text/plain": [
       "Validation:   0%|          | 0/117 [00:00<?, ?it/s]"
      ]
     },
     "metadata": {},
     "output_type": "display_data"
    },
    {
     "name": "stdout",
     "output_type": "stream",
     "text": [
      "   Epoch 4: Train Loss = 0.8215, Valid Loss = 0.8821, LR = 0.000090\n",
      "   New best model saved with validation loss: 0.8821\n",
      "   --- Epoch 5/15 ---\n"
     ]
    },
    {
     "data": {
      "application/vnd.jupyter.widget-view+json": {
       "model_id": "779765bcfacb483ca76e5653a5bcde1d",
       "version_major": 2,
       "version_minor": 0
      },
      "text/plain": [
       "Training:   0%|          | 0/417 [00:00<?, ?it/s]"
      ]
     },
     "metadata": {},
     "output_type": "display_data"
    },
    {
     "data": {
      "application/vnd.jupyter.widget-view+json": {
       "model_id": "78996486bf0345489ae470956821f7a2",
       "version_major": 2,
       "version_minor": 0
      },
      "text/plain": [
       "Validation:   0%|          | 0/117 [00:00<?, ?it/s]"
      ]
     },
     "metadata": {},
     "output_type": "display_data"
    },
    {
     "name": "stdout",
     "output_type": "stream",
     "text": [
      "   Epoch 5: Train Loss = 0.7537, Valid Loss = 0.8540, LR = 0.000083\n",
      "   New best model saved with validation loss: 0.8540\n",
      "   --- Epoch 6/15 ---\n"
     ]
    },
    {
     "data": {
      "application/vnd.jupyter.widget-view+json": {
       "model_id": "0e85ef0a209746d2ba5b29ea7fe772e7",
       "version_major": 2,
       "version_minor": 0
      },
      "text/plain": [
       "Training:   0%|          | 0/417 [00:00<?, ?it/s]"
      ]
     },
     "metadata": {},
     "output_type": "display_data"
    },
    {
     "data": {
      "application/vnd.jupyter.widget-view+json": {
       "model_id": "a228bfd166c84207a735d364d824d719",
       "version_major": 2,
       "version_minor": 0
      },
      "text/plain": [
       "Validation:   0%|          | 0/117 [00:00<?, ?it/s]"
      ]
     },
     "metadata": {},
     "output_type": "display_data"
    },
    {
     "name": "stdout",
     "output_type": "stream",
     "text": [
      "   Epoch 6: Train Loss = 0.6955, Valid Loss = 0.8483, LR = 0.000075\n",
      "   New best model saved with validation loss: 0.8483\n",
      "   --- Epoch 7/15 ---\n"
     ]
    },
    {
     "data": {
      "application/vnd.jupyter.widget-view+json": {
       "model_id": "5cfd381777a34ba795041048b5ea0c51",
       "version_major": 2,
       "version_minor": 0
      },
      "text/plain": [
       "Training:   0%|          | 0/417 [00:00<?, ?it/s]"
      ]
     },
     "metadata": {},
     "output_type": "display_data"
    },
    {
     "data": {
      "application/vnd.jupyter.widget-view+json": {
       "model_id": "e5059c05e543411faef2cdc647347feb",
       "version_major": 2,
       "version_minor": 0
      },
      "text/plain": [
       "Validation:   0%|          | 0/117 [00:00<?, ?it/s]"
      ]
     },
     "metadata": {},
     "output_type": "display_data"
    },
    {
     "name": "stdout",
     "output_type": "stream",
     "text": [
      "   Epoch 7: Train Loss = 0.6355, Valid Loss = 0.8334, LR = 0.000065\n",
      "   New best model saved with validation loss: 0.8334\n",
      "   --- Epoch 8/15 ---\n"
     ]
    },
    {
     "data": {
      "application/vnd.jupyter.widget-view+json": {
       "model_id": "74660dd3f6bd47f7849dbb894d0d38c2",
       "version_major": 2,
       "version_minor": 0
      },
      "text/plain": [
       "Training:   0%|          | 0/417 [00:00<?, ?it/s]"
      ]
     },
     "metadata": {},
     "output_type": "display_data"
    },
    {
     "data": {
      "application/vnd.jupyter.widget-view+json": {
       "model_id": "d4b45940ce374d46b22c14a0d1c31a1c",
       "version_major": 2,
       "version_minor": 0
      },
      "text/plain": [
       "Validation:   0%|          | 0/117 [00:00<?, ?it/s]"
      ]
     },
     "metadata": {},
     "output_type": "display_data"
    },
    {
     "name": "stdout",
     "output_type": "stream",
     "text": [
      "   Epoch 8: Train Loss = 0.5816, Valid Loss = 0.8710, LR = 0.000055\n",
      "   --- Epoch 9/15 ---\n"
     ]
    },
    {
     "data": {
      "application/vnd.jupyter.widget-view+json": {
       "model_id": "930fb3ad5d9247759771fc80c0cbe290",
       "version_major": 2,
       "version_minor": 0
      },
      "text/plain": [
       "Training:   0%|          | 0/417 [00:00<?, ?it/s]"
      ]
     },
     "metadata": {},
     "output_type": "display_data"
    },
    {
     "data": {
      "application/vnd.jupyter.widget-view+json": {
       "model_id": "81b22784e9d3428c9b9256f98708de37",
       "version_major": 2,
       "version_minor": 0
      },
      "text/plain": [
       "Validation:   0%|          | 0/117 [00:00<?, ?it/s]"
      ]
     },
     "metadata": {},
     "output_type": "display_data"
    },
    {
     "name": "stdout",
     "output_type": "stream",
     "text": [
      "   Epoch 9: Train Loss = 0.5086, Valid Loss = 0.8955, LR = 0.000045\n",
      "   --- Epoch 10/15 ---\n"
     ]
    },
    {
     "data": {
      "application/vnd.jupyter.widget-view+json": {
       "model_id": "ff7ecd6e6785466dac5d79030876600d",
       "version_major": 2,
       "version_minor": 0
      },
      "text/plain": [
       "Training:   0%|          | 0/417 [00:00<?, ?it/s]"
      ]
     },
     "metadata": {},
     "output_type": "display_data"
    },
    {
     "data": {
      "application/vnd.jupyter.widget-view+json": {
       "model_id": "fc156ae1d22f44a09e41da5933ebf6d9",
       "version_major": 2,
       "version_minor": 0
      },
      "text/plain": [
       "Validation:   0%|          | 0/117 [00:00<?, ?it/s]"
      ]
     },
     "metadata": {},
     "output_type": "display_data"
    },
    {
     "name": "stdout",
     "output_type": "stream",
     "text": [
      "   Epoch 10: Train Loss = 0.4527, Valid Loss = 0.8902, LR = 0.000035\n",
      "   --- Epoch 11/15 ---\n"
     ]
    },
    {
     "data": {
      "application/vnd.jupyter.widget-view+json": {
       "model_id": "3d964c244f364573a5f2d166d039c718",
       "version_major": 2,
       "version_minor": 0
      },
      "text/plain": [
       "Training:   0%|          | 0/417 [00:00<?, ?it/s]"
      ]
     },
     "metadata": {},
     "output_type": "display_data"
    },
    {
     "data": {
      "application/vnd.jupyter.widget-view+json": {
       "model_id": "cfcf8785f1d64b1f8a66670b5e3d612b",
       "version_major": 2,
       "version_minor": 0
      },
      "text/plain": [
       "Validation:   0%|          | 0/117 [00:00<?, ?it/s]"
      ]
     },
     "metadata": {},
     "output_type": "display_data"
    },
    {
     "name": "stdout",
     "output_type": "stream",
     "text": [
      "   Epoch 11: Train Loss = 0.3971, Valid Loss = 0.8962, LR = 0.000025\n",
      "   --- Epoch 12/15 ---\n"
     ]
    },
    {
     "data": {
      "application/vnd.jupyter.widget-view+json": {
       "model_id": "5b7234b8bfaf44eea6da75fc127f0ff3",
       "version_major": 2,
       "version_minor": 0
      },
      "text/plain": [
       "Training:   0%|          | 0/417 [00:00<?, ?it/s]"
      ]
     },
     "metadata": {},
     "output_type": "display_data"
    },
    {
     "data": {
      "application/vnd.jupyter.widget-view+json": {
       "model_id": "7e7f21bc2a84492d99ce96cc6286f958",
       "version_major": 2,
       "version_minor": 0
      },
      "text/plain": [
       "Validation:   0%|          | 0/117 [00:00<?, ?it/s]"
      ]
     },
     "metadata": {},
     "output_type": "display_data"
    },
    {
     "name": "stdout",
     "output_type": "stream",
     "text": [
      "   Epoch 12: Train Loss = 0.3489, Valid Loss = 0.9366, LR = 0.000017\n",
      "   --- Epoch 13/15 ---\n"
     ]
    },
    {
     "data": {
      "application/vnd.jupyter.widget-view+json": {
       "model_id": "917a869bb5f244bfb7adff9eaf8b9c0e",
       "version_major": 2,
       "version_minor": 0
      },
      "text/plain": [
       "Training:   0%|          | 0/417 [00:00<?, ?it/s]"
      ]
     },
     "metadata": {},
     "output_type": "display_data"
    },
    {
     "data": {
      "application/vnd.jupyter.widget-view+json": {
       "model_id": "91c61867fd534eb1985c7bf9ab46d6ff",
       "version_major": 2,
       "version_minor": 0
      },
      "text/plain": [
       "Validation:   0%|          | 0/117 [00:00<?, ?it/s]"
      ]
     },
     "metadata": {},
     "output_type": "display_data"
    },
    {
     "name": "stdout",
     "output_type": "stream",
     "text": [
      "   Epoch 13: Train Loss = 0.3174, Valid Loss = 0.9355, LR = 0.000010\n",
      "   --- Epoch 14/15 ---\n"
     ]
    },
    {
     "data": {
      "application/vnd.jupyter.widget-view+json": {
       "model_id": "a81edec29d6046fe82a468457728a3dd",
       "version_major": 2,
       "version_minor": 0
      },
      "text/plain": [
       "Training:   0%|          | 0/417 [00:00<?, ?it/s]"
      ]
     },
     "metadata": {},
     "output_type": "display_data"
    },
    {
     "data": {
      "application/vnd.jupyter.widget-view+json": {
       "model_id": "ba600bbcaab749a88e6b5088116c6b77",
       "version_major": 2,
       "version_minor": 0
      },
      "text/plain": [
       "Validation:   0%|          | 0/117 [00:00<?, ?it/s]"
      ]
     },
     "metadata": {},
     "output_type": "display_data"
    },
    {
     "name": "stdout",
     "output_type": "stream",
     "text": [
      "   Epoch 14: Train Loss = 0.2971, Valid Loss = 0.9708, LR = 0.000004\n",
      "   --- Epoch 15/15 ---\n"
     ]
    },
    {
     "data": {
      "application/vnd.jupyter.widget-view+json": {
       "model_id": "1844a09d2ecb4428a676812b97c59c71",
       "version_major": 2,
       "version_minor": 0
      },
      "text/plain": [
       "Training:   0%|          | 0/417 [00:00<?, ?it/s]"
      ]
     },
     "metadata": {},
     "output_type": "display_data"
    },
    {
     "data": {
      "application/vnd.jupyter.widget-view+json": {
       "model_id": "b26b5bee50e8412d88515d563177e824",
       "version_major": 2,
       "version_minor": 0
      },
      "text/plain": [
       "Validation:   0%|          | 0/117 [00:00<?, ?it/s]"
      ]
     },
     "metadata": {},
     "output_type": "display_data"
    },
    {
     "name": "stdout",
     "output_type": "stream",
     "text": [
      "   Epoch 15: Train Loss = 0.2875, Valid Loss = 0.9620, LR = 0.000001\n",
      "\n",
      "Logged artifact for fold 0 with best validation loss: 0.8334\n"
     ]
    },
    {
     "data": {
      "text/html": [],
      "text/plain": [
       "<IPython.core.display.HTML object>"
      ]
     },
     "metadata": {},
     "output_type": "display_data"
    },
    {
     "data": {
      "text/html": [
       "<br>    <style><br>        .wandb-row {<br>            display: flex;<br>            flex-direction: row;<br>            flex-wrap: wrap;<br>            justify-content: flex-start;<br>            width: 100%;<br>        }<br>        .wandb-col {<br>            display: flex;<br>            flex-direction: column;<br>            flex-basis: 100%;<br>            flex: 1;<br>            padding: 10px;<br>        }<br>    </style><br><div class=\"wandb-row\"><div class=\"wandb-col\"><h3>Run history:</h3><br/><table class=\"wandb\"><tr><td>epoch</td><td>▁▁▂▃▃▃▄▅▅▅▆▇▇▇█</td></tr><tr><td>gradients/fc_layer_norm</td><td>▃▂▂▁▄▃▂▅▂▂▃█▃▅█▄▄▄▄▆▂▂▂▃▃▅▇▂▃▃▂▃▁▃▃▃▃▂▂▂</td></tr><tr><td>gradients/total_norm</td><td>▂▂▂▁▂▅▅▃▃▄▄▃▆▅▆▃▄▅▅▄▅▆▅▅▅▄▅██▄▇█▃▅▅▄▃▃▇▄</td></tr><tr><td>train/epoch_loss</td><td>█▇▆▅▄▄▄▃▃▂▂▁▁▁▁</td></tr><tr><td>train/epoch_lr</td><td>███▇▇▆▆▅▄▃▃▂▂▁▁</td></tr><tr><td>train/loss</td><td>██▇█▇▆▆▆▆▅▄▃▆▅▄▆▆▃▅▄▄▃▃▄▃▄▃▂▃▂▂▂▃▂▂▂▁▁▁▂</td></tr><tr><td>val/kl_div</td><td>█▆▃▂▁▁▁▂▂▂▂▃▃▃▃</td></tr><tr><td>val/loss</td><td>█▆▃▂▁▁▁▂▂▂▂▃▃▃▃</td></tr></table><br/></div><div class=\"wandb-col\"><h3>Run summary:</h3><br/><table class=\"wandb\"><tr><td>best_val_kl_div</td><td>0.83338</td></tr><tr><td>epoch</td><td>15</td></tr><tr><td>gradients/fc_layer_norm</td><td>1.20085</td></tr><tr><td>gradients/total_norm</td><td>4.8048</td></tr><tr><td>train/epoch_loss</td><td>0.28753</td></tr><tr><td>train/epoch_lr</td><td>0.0</td></tr><tr><td>train/loss</td><td>0.28411</td></tr><tr><td>val/kl_div</td><td>0.96197</td></tr><tr><td>val/loss</td><td>0.96197</td></tr></table><br/></div></div>"
      ],
      "text/plain": [
       "<IPython.core.display.HTML object>"
      ]
     },
     "metadata": {},
     "output_type": "display_data"
    },
    {
     "data": {
      "text/html": [
       " View run <strong style=\"color:#cdcd00\">tcn-raw-eeg-fold0</strong> at: <a href='https://wandb.ai/hms-hslu-aicomp-hs25/hms-aicomp-tcn/runs/h8ykqlru' target=\"_blank\">https://wandb.ai/hms-hslu-aicomp-hs25/hms-aicomp-tcn/runs/h8ykqlru</a><br> View project at: <a href='https://wandb.ai/hms-hslu-aicomp-hs25/hms-aicomp-tcn' target=\"_blank\">https://wandb.ai/hms-hslu-aicomp-hs25/hms-aicomp-tcn</a><br>Synced 5 W&B file(s), 0 media file(s), 2 artifact file(s) and 0 other file(s)"
      ],
      "text/plain": [
       "<IPython.core.display.HTML object>"
      ]
     },
     "metadata": {},
     "output_type": "display_data"
    },
    {
     "data": {
      "text/html": [
       "Find logs at: <code>./wandb/run-20251016_165637-h8ykqlru/logs</code>"
      ],
      "text/plain": [
       "<IPython.core.display.HTML object>"
      ]
     },
     "metadata": {},
     "output_type": "display_data"
    },
    {
     "name": "stdout",
     "output_type": "stream",
     "text": [
      "\n",
      "========== FOLD 1 ==========\n"
     ]
    },
    {
     "data": {
      "text/html": [],
      "text/plain": [
       "<IPython.core.display.HTML object>"
      ]
     },
     "metadata": {},
     "output_type": "display_data"
    },
    {
     "data": {
      "text/html": [
       "Tracking run with wandb version 0.22.1"
      ],
      "text/plain": [
       "<IPython.core.display.HTML object>"
      ]
     },
     "metadata": {},
     "output_type": "display_data"
    },
    {
     "data": {
      "text/html": [
       "Run data is saved locally in <code>/home/maiko/Documents/HSLU/AICOMP/HSLU.AICOMP.HMS/notebooks/models/TCN/wandb/run-20251016_185550-96bl1qkx</code>"
      ],
      "text/plain": [
       "<IPython.core.display.HTML object>"
      ]
     },
     "metadata": {},
     "output_type": "display_data"
    },
    {
     "data": {
      "text/html": [
       "Syncing run <strong><a href='https://wandb.ai/hms-hslu-aicomp-hs25/hms-aicomp-tcn/runs/96bl1qkx' target=\"_blank\">tcn-raw-eeg-fold1</a></strong> to <a href='https://wandb.ai/hms-hslu-aicomp-hs25/hms-aicomp-tcn' target=\"_blank\">Weights & Biases</a> (<a href='https://wandb.me/developer-guide' target=\"_blank\">docs</a>)<br>"
      ],
      "text/plain": [
       "<IPython.core.display.HTML object>"
      ]
     },
     "metadata": {},
     "output_type": "display_data"
    },
    {
     "data": {
      "text/html": [
       " View project at <a href='https://wandb.ai/hms-hslu-aicomp-hs25/hms-aicomp-tcn' target=\"_blank\">https://wandb.ai/hms-hslu-aicomp-hs25/hms-aicomp-tcn</a>"
      ],
      "text/plain": [
       "<IPython.core.display.HTML object>"
      ]
     },
     "metadata": {},
     "output_type": "display_data"
    },
    {
     "data": {
      "text/html": [
       " View run at <a href='https://wandb.ai/hms-hslu-aicomp-hs25/hms-aicomp-tcn/runs/96bl1qkx' target=\"_blank\">https://wandb.ai/hms-hslu-aicomp-hs25/hms-aicomp-tcn/runs/96bl1qkx</a>"
      ],
      "text/plain": [
       "<IPython.core.display.HTML object>"
      ]
     },
     "metadata": {},
     "output_type": "display_data"
    },
    {
     "name": "stdout",
     "output_type": "stream",
     "text": [
      "   --- Epoch 1/15 ---\n"
     ]
    },
    {
     "data": {
      "application/vnd.jupyter.widget-view+json": {
       "model_id": "788652b0cdd6443099dc5c9a359af70e",
       "version_major": 2,
       "version_minor": 0
      },
      "text/plain": [
       "Training:   0%|          | 0/418 [00:00<?, ?it/s]"
      ]
     },
     "metadata": {},
     "output_type": "display_data"
    },
    {
     "name": "stdout",
     "output_type": "stream",
     "text": [
      "\n",
      "--- Data Shape Verification ---\n",
      "Shape of one training batch (batch, seq_len, channels): torch.Size([32, 3334, 20])\n",
      "Calculated sequence length in CFG: 3300\n",
      "Downsampling enabled: True, Factor: 3\n",
      "--- End Verification ---\n",
      "\n"
     ]
    },
    {
     "data": {
      "application/vnd.jupyter.widget-view+json": {
       "model_id": "672c883222f348f8a934869d2fe68d88",
       "version_major": 2,
       "version_minor": 0
      },
      "text/plain": [
       "Validation:   0%|          | 0/116 [00:00<?, ?it/s]"
      ]
     },
     "metadata": {},
     "output_type": "display_data"
    },
    {
     "name": "stdout",
     "output_type": "stream",
     "text": [
      "   Epoch 1: Train Loss = 1.2256, Valid Loss = 1.2559, LR = 0.000100\n",
      "   New best model saved with validation loss: 1.2559\n",
      "   --- Epoch 2/15 ---\n"
     ]
    },
    {
     "data": {
      "application/vnd.jupyter.widget-view+json": {
       "model_id": "23ccb1bd82604f47b70b13f56c74f784",
       "version_major": 2,
       "version_minor": 0
      },
      "text/plain": [
       "Training:   0%|          | 0/418 [00:00<?, ?it/s]"
      ]
     },
     "metadata": {},
     "output_type": "display_data"
    },
    {
     "data": {
      "application/vnd.jupyter.widget-view+json": {
       "model_id": "bab62668f84e4aa7a3c4e690fbef04f4",
       "version_major": 2,
       "version_minor": 0
      },
      "text/plain": [
       "Validation:   0%|          | 0/116 [00:00<?, ?it/s]"
      ]
     },
     "metadata": {},
     "output_type": "display_data"
    },
    {
     "name": "stdout",
     "output_type": "stream",
     "text": [
      "   Epoch 2: Train Loss = 1.0115, Valid Loss = 1.0490, LR = 0.000099\n",
      "   New best model saved with validation loss: 1.0490\n",
      "   --- Epoch 3/15 ---\n"
     ]
    },
    {
     "data": {
      "application/vnd.jupyter.widget-view+json": {
       "model_id": "03caab358a0245eb8caadf826c03d27c",
       "version_major": 2,
       "version_minor": 0
      },
      "text/plain": [
       "Training:   0%|          | 0/418 [00:00<?, ?it/s]"
      ]
     },
     "metadata": {},
     "output_type": "display_data"
    },
    {
     "data": {
      "application/vnd.jupyter.widget-view+json": {
       "model_id": "a5bd19a1b1fd421ab81ad6ddd88dee07",
       "version_major": 2,
       "version_minor": 0
      },
      "text/plain": [
       "Validation:   0%|          | 0/116 [00:00<?, ?it/s]"
      ]
     },
     "metadata": {},
     "output_type": "display_data"
    },
    {
     "name": "stdout",
     "output_type": "stream",
     "text": [
      "   Epoch 3: Train Loss = 0.8693, Valid Loss = 0.9116, LR = 0.000096\n",
      "   New best model saved with validation loss: 0.9116\n",
      "   --- Epoch 4/15 ---\n"
     ]
    },
    {
     "data": {
      "application/vnd.jupyter.widget-view+json": {
       "model_id": "59666088b6804e659a718a83c43b549d",
       "version_major": 2,
       "version_minor": 0
      },
      "text/plain": [
       "Training:   0%|          | 0/418 [00:00<?, ?it/s]"
      ]
     },
     "metadata": {},
     "output_type": "display_data"
    },
    {
     "data": {
      "application/vnd.jupyter.widget-view+json": {
       "model_id": "f077e642e4da434bacdc56788babf6d1",
       "version_major": 2,
       "version_minor": 0
      },
      "text/plain": [
       "Validation:   0%|          | 0/116 [00:00<?, ?it/s]"
      ]
     },
     "metadata": {},
     "output_type": "display_data"
    },
    {
     "name": "stdout",
     "output_type": "stream",
     "text": [
      "   Epoch 4: Train Loss = 0.7986, Valid Loss = 0.9638, LR = 0.000090\n",
      "   --- Epoch 5/15 ---\n"
     ]
    },
    {
     "data": {
      "application/vnd.jupyter.widget-view+json": {
       "model_id": "de33c75cfce34365b7da96df2ff634e3",
       "version_major": 2,
       "version_minor": 0
      },
      "text/plain": [
       "Training:   0%|          | 0/418 [00:00<?, ?it/s]"
      ]
     },
     "metadata": {},
     "output_type": "display_data"
    },
    {
     "data": {
      "application/vnd.jupyter.widget-view+json": {
       "model_id": "741c11244a494cdfa00613113889edb9",
       "version_major": 2,
       "version_minor": 0
      },
      "text/plain": [
       "Validation:   0%|          | 0/116 [00:00<?, ?it/s]"
      ]
     },
     "metadata": {},
     "output_type": "display_data"
    },
    {
     "name": "stdout",
     "output_type": "stream",
     "text": [
      "   Epoch 5: Train Loss = 0.7223, Valid Loss = 0.8651, LR = 0.000083\n",
      "   New best model saved with validation loss: 0.8651\n",
      "   --- Epoch 6/15 ---\n"
     ]
    },
    {
     "data": {
      "application/vnd.jupyter.widget-view+json": {
       "model_id": "309b7aeaf5ce4af082849b55c387ebaf",
       "version_major": 2,
       "version_minor": 0
      },
      "text/plain": [
       "Training:   0%|          | 0/418 [00:00<?, ?it/s]"
      ]
     },
     "metadata": {},
     "output_type": "display_data"
    },
    {
     "data": {
      "application/vnd.jupyter.widget-view+json": {
       "model_id": "08ded96de02847b385383afa5d4ba9f3",
       "version_major": 2,
       "version_minor": 0
      },
      "text/plain": [
       "Validation:   0%|          | 0/116 [00:00<?, ?it/s]"
      ]
     },
     "metadata": {},
     "output_type": "display_data"
    },
    {
     "name": "stdout",
     "output_type": "stream",
     "text": [
      "   Epoch 6: Train Loss = 0.6687, Valid Loss = 0.8967, LR = 0.000075\n",
      "   --- Epoch 7/15 ---\n"
     ]
    },
    {
     "data": {
      "application/vnd.jupyter.widget-view+json": {
       "model_id": "23dfa78c0abf47a3bf7e54ec748c59a4",
       "version_major": 2,
       "version_minor": 0
      },
      "text/plain": [
       "Training:   0%|          | 0/418 [00:00<?, ?it/s]"
      ]
     },
     "metadata": {},
     "output_type": "display_data"
    },
    {
     "data": {
      "application/vnd.jupyter.widget-view+json": {
       "model_id": "cfa2e49cb0a546a9ba1a448ea99314d9",
       "version_major": 2,
       "version_minor": 0
      },
      "text/plain": [
       "Validation:   0%|          | 0/116 [00:00<?, ?it/s]"
      ]
     },
     "metadata": {},
     "output_type": "display_data"
    },
    {
     "name": "stdout",
     "output_type": "stream",
     "text": [
      "   Epoch 7: Train Loss = 0.6079, Valid Loss = 0.8706, LR = 0.000065\n",
      "   --- Epoch 8/15 ---\n"
     ]
    },
    {
     "data": {
      "application/vnd.jupyter.widget-view+json": {
       "model_id": "34e1418af121405ea84d14afd0f201d9",
       "version_major": 2,
       "version_minor": 0
      },
      "text/plain": [
       "Training:   0%|          | 0/418 [00:00<?, ?it/s]"
      ]
     },
     "metadata": {},
     "output_type": "display_data"
    },
    {
     "data": {
      "application/vnd.jupyter.widget-view+json": {
       "model_id": "eb04eca2b65041bbbd6faa4f0b3a5cbe",
       "version_major": 2,
       "version_minor": 0
      },
      "text/plain": [
       "Validation:   0%|          | 0/116 [00:00<?, ?it/s]"
      ]
     },
     "metadata": {},
     "output_type": "display_data"
    },
    {
     "name": "stdout",
     "output_type": "stream",
     "text": [
      "   Epoch 8: Train Loss = 0.5476, Valid Loss = 0.8631, LR = 0.000055\n",
      "   New best model saved with validation loss: 0.8631\n",
      "   --- Epoch 9/15 ---\n"
     ]
    },
    {
     "data": {
      "application/vnd.jupyter.widget-view+json": {
       "model_id": "20bf9e9c1cfb4e4dac8bf216c49b84d1",
       "version_major": 2,
       "version_minor": 0
      },
      "text/plain": [
       "Training:   0%|          | 0/418 [00:00<?, ?it/s]"
      ]
     },
     "metadata": {},
     "output_type": "display_data"
    },
    {
     "data": {
      "application/vnd.jupyter.widget-view+json": {
       "model_id": "2f5303f52eaf42289ed788958527049d",
       "version_major": 2,
       "version_minor": 0
      },
      "text/plain": [
       "Validation:   0%|          | 0/116 [00:00<?, ?it/s]"
      ]
     },
     "metadata": {},
     "output_type": "display_data"
    },
    {
     "name": "stdout",
     "output_type": "stream",
     "text": [
      "   Epoch 9: Train Loss = 0.4732, Valid Loss = 0.8731, LR = 0.000045\n",
      "   --- Epoch 10/15 ---\n"
     ]
    },
    {
     "data": {
      "application/vnd.jupyter.widget-view+json": {
       "model_id": "2bc23ad61b3b45f1a3f9e0880796bf92",
       "version_major": 2,
       "version_minor": 0
      },
      "text/plain": [
       "Training:   0%|          | 0/418 [00:00<?, ?it/s]"
      ]
     },
     "metadata": {},
     "output_type": "display_data"
    },
    {
     "data": {
      "application/vnd.jupyter.widget-view+json": {
       "model_id": "c1e448978a484113ac341e8b8e37337a",
       "version_major": 2,
       "version_minor": 0
      },
      "text/plain": [
       "Validation:   0%|          | 0/116 [00:00<?, ?it/s]"
      ]
     },
     "metadata": {},
     "output_type": "display_data"
    },
    {
     "name": "stdout",
     "output_type": "stream",
     "text": [
      "   Epoch 10: Train Loss = 0.4045, Valid Loss = 0.8692, LR = 0.000035\n",
      "   --- Epoch 11/15 ---\n"
     ]
    },
    {
     "data": {
      "application/vnd.jupyter.widget-view+json": {
       "model_id": "5d8fdfcddec94a67b1f3654de982e675",
       "version_major": 2,
       "version_minor": 0
      },
      "text/plain": [
       "Training:   0%|          | 0/418 [00:00<?, ?it/s]"
      ]
     },
     "metadata": {},
     "output_type": "display_data"
    },
    {
     "data": {
      "application/vnd.jupyter.widget-view+json": {
       "model_id": "6e006ec679d44b8bb7bce97d2868be6b",
       "version_major": 2,
       "version_minor": 0
      },
      "text/plain": [
       "Validation:   0%|          | 0/116 [00:00<?, ?it/s]"
      ]
     },
     "metadata": {},
     "output_type": "display_data"
    },
    {
     "name": "stdout",
     "output_type": "stream",
     "text": [
      "   Epoch 11: Train Loss = 0.3542, Valid Loss = 0.9398, LR = 0.000025\n",
      "   --- Epoch 12/15 ---\n"
     ]
    },
    {
     "data": {
      "application/vnd.jupyter.widget-view+json": {
       "model_id": "f31c555b743048dbab2c5b956615d192",
       "version_major": 2,
       "version_minor": 0
      },
      "text/plain": [
       "Training:   0%|          | 0/418 [00:00<?, ?it/s]"
      ]
     },
     "metadata": {},
     "output_type": "display_data"
    },
    {
     "data": {
      "application/vnd.jupyter.widget-view+json": {
       "model_id": "7b4781dda4214ee680ad5ece72e6abb8",
       "version_major": 2,
       "version_minor": 0
      },
      "text/plain": [
       "Validation:   0%|          | 0/116 [00:00<?, ?it/s]"
      ]
     },
     "metadata": {},
     "output_type": "display_data"
    },
    {
     "name": "stdout",
     "output_type": "stream",
     "text": [
      "   Epoch 12: Train Loss = 0.3077, Valid Loss = 0.9299, LR = 0.000017\n",
      "   --- Epoch 13/15 ---\n"
     ]
    },
    {
     "data": {
      "application/vnd.jupyter.widget-view+json": {
       "model_id": "bdb5a9fb2c2b4883b2f85069acf852ec",
       "version_major": 2,
       "version_minor": 0
      },
      "text/plain": [
       "Training:   0%|          | 0/418 [00:00<?, ?it/s]"
      ]
     },
     "metadata": {},
     "output_type": "display_data"
    },
    {
     "data": {
      "application/vnd.jupyter.widget-view+json": {
       "model_id": "c709ae4f221c4446bcc12e739ea37f99",
       "version_major": 2,
       "version_minor": 0
      },
      "text/plain": [
       "Validation:   0%|          | 0/116 [00:00<?, ?it/s]"
      ]
     },
     "metadata": {},
     "output_type": "display_data"
    },
    {
     "name": "stdout",
     "output_type": "stream",
     "text": [
      "   Epoch 13: Train Loss = 0.2746, Valid Loss = 0.9884, LR = 0.000010\n",
      "   --- Epoch 14/15 ---\n"
     ]
    },
    {
     "data": {
      "application/vnd.jupyter.widget-view+json": {
       "model_id": "6f0464f5a84546aebddcef6a5307c2b1",
       "version_major": 2,
       "version_minor": 0
      },
      "text/plain": [
       "Training:   0%|          | 0/418 [00:00<?, ?it/s]"
      ]
     },
     "metadata": {},
     "output_type": "display_data"
    },
    {
     "data": {
      "application/vnd.jupyter.widget-view+json": {
       "model_id": "7e54e381c0f04aa5a5d146a616e967ac",
       "version_major": 2,
       "version_minor": 0
      },
      "text/plain": [
       "Validation:   0%|          | 0/116 [00:00<?, ?it/s]"
      ]
     },
     "metadata": {},
     "output_type": "display_data"
    },
    {
     "name": "stdout",
     "output_type": "stream",
     "text": [
      "   Epoch 14: Train Loss = 0.2586, Valid Loss = 0.9513, LR = 0.000004\n",
      "   --- Epoch 15/15 ---\n"
     ]
    },
    {
     "data": {
      "application/vnd.jupyter.widget-view+json": {
       "model_id": "d4b2b9af728f4a48a8a4837cbffedc95",
       "version_major": 2,
       "version_minor": 0
      },
      "text/plain": [
       "Training:   0%|          | 0/418 [00:00<?, ?it/s]"
      ]
     },
     "metadata": {},
     "output_type": "display_data"
    }
   ],
   "source": [
    "import os\n",
    "import pandas as pd\n",
    "import numpy as np\n",
    "import torch\n",
    "import torch.nn as nn\n",
    "import torch.nn.functional as F\n",
    "from torch.utils.data import Dataset, DataLoader\n",
    "from sklearn.model_selection import StratifiedGroupKFold\n",
    "from tqdm.auto import tqdm \n",
    "import wandb\n",
    "from torch.optim.lr_scheduler import CosineAnnealingLR\n",
    "import sys\n",
    "from pathlib import Path\n",
    "\n",
    "from pytorch_tcn import TCN\n",
    "\n",
    "\n",
    "sys.path.insert(0, os.path.abspath(os.path.join(os.getcwd(), \"..\", \"..\", \"..\")))\n",
    "from src.utils.k_folds_creator import KFoldCreator\n",
    "from src.utils.utils import get_models_save_path\n",
    "from src.utils.constants import Constants \n",
    "from src.datasets.eeg_dataset import EEGDataset\n",
    "wandb.login()\n",
    "\n",
    "\n"
   ]
  },
  {
   "cell_type": "code",
   "execution_count": null,
   "id": "c3472f62",
   "metadata": {},
   "outputs": [
    {
     "data": {
      "text/html": [
       "<div>\n",
       "<style scoped>\n",
       "    .dataframe tbody tr th:only-of-type {\n",
       "        vertical-align: middle;\n",
       "    }\n",
       "\n",
       "    .dataframe tbody tr th {\n",
       "        vertical-align: top;\n",
       "    }\n",
       "\n",
       "    .dataframe thead th {\n",
       "        text-align: right;\n",
       "    }\n",
       "</style>\n",
       "<table border=\"1\" class=\"dataframe\">\n",
       "  <thead>\n",
       "    <tr style=\"text-align: right;\">\n",
       "      <th></th>\n",
       "      <th>eeg_id</th>\n",
       "      <th>patient_id</th>\n",
       "      <th>seizure_vote</th>\n",
       "      <th>lpd_vote</th>\n",
       "      <th>gpd_vote</th>\n",
       "      <th>lrda_vote</th>\n",
       "      <th>grda_vote</th>\n",
       "      <th>other_vote</th>\n",
       "      <th>expert_consensus</th>\n",
       "      <th>fold</th>\n",
       "    </tr>\n",
       "  </thead>\n",
       "  <tbody>\n",
       "    <tr>\n",
       "      <th>0</th>\n",
       "      <td>0</td>\n",
       "      <td>52</td>\n",
       "      <td>0.077368</td>\n",
       "      <td>0.016019</td>\n",
       "      <td>0.010173</td>\n",
       "      <td>0.055574</td>\n",
       "      <td>0.404570</td>\n",
       "      <td>0.436296</td>\n",
       "      <td>other_vote</td>\n",
       "      <td>4</td>\n",
       "    </tr>\n",
       "    <tr>\n",
       "      <th>1</th>\n",
       "      <td>1</td>\n",
       "      <td>93</td>\n",
       "      <td>0.054295</td>\n",
       "      <td>0.412413</td>\n",
       "      <td>0.295168</td>\n",
       "      <td>0.219599</td>\n",
       "      <td>0.018326</td>\n",
       "      <td>0.000200</td>\n",
       "      <td>lpd_vote</td>\n",
       "      <td>0</td>\n",
       "    </tr>\n",
       "    <tr>\n",
       "      <th>2</th>\n",
       "      <td>2</td>\n",
       "      <td>15</td>\n",
       "      <td>0.094554</td>\n",
       "      <td>0.068652</td>\n",
       "      <td>0.091909</td>\n",
       "      <td>0.254528</td>\n",
       "      <td>0.241059</td>\n",
       "      <td>0.249297</td>\n",
       "      <td>lrda_vote</td>\n",
       "      <td>1</td>\n",
       "    </tr>\n",
       "    <tr>\n",
       "      <th>3</th>\n",
       "      <td>3</td>\n",
       "      <td>72</td>\n",
       "      <td>0.042833</td>\n",
       "      <td>0.269521</td>\n",
       "      <td>0.253119</td>\n",
       "      <td>0.242989</td>\n",
       "      <td>0.119773</td>\n",
       "      <td>0.071766</td>\n",
       "      <td>lpd_vote</td>\n",
       "      <td>4</td>\n",
       "    </tr>\n",
       "    <tr>\n",
       "      <th>4</th>\n",
       "      <td>4</td>\n",
       "      <td>61</td>\n",
       "      <td>0.031128</td>\n",
       "      <td>0.054718</td>\n",
       "      <td>0.163076</td>\n",
       "      <td>0.203813</td>\n",
       "      <td>0.219944</td>\n",
       "      <td>0.327320</td>\n",
       "      <td>other_vote</td>\n",
       "      <td>2</td>\n",
       "    </tr>\n",
       "    <tr>\n",
       "      <th>...</th>\n",
       "      <td>...</td>\n",
       "      <td>...</td>\n",
       "      <td>...</td>\n",
       "      <td>...</td>\n",
       "      <td>...</td>\n",
       "      <td>...</td>\n",
       "      <td>...</td>\n",
       "      <td>...</td>\n",
       "      <td>...</td>\n",
       "      <td>...</td>\n",
       "    </tr>\n",
       "    <tr>\n",
       "      <th>495</th>\n",
       "      <td>495</td>\n",
       "      <td>93</td>\n",
       "      <td>0.232811</td>\n",
       "      <td>0.187740</td>\n",
       "      <td>0.120637</td>\n",
       "      <td>0.240649</td>\n",
       "      <td>0.129826</td>\n",
       "      <td>0.088337</td>\n",
       "      <td>lrda_vote</td>\n",
       "      <td>0</td>\n",
       "    </tr>\n",
       "    <tr>\n",
       "      <th>496</th>\n",
       "      <td>496</td>\n",
       "      <td>67</td>\n",
       "      <td>0.104876</td>\n",
       "      <td>0.196337</td>\n",
       "      <td>0.201738</td>\n",
       "      <td>0.162458</td>\n",
       "      <td>0.182024</td>\n",
       "      <td>0.152567</td>\n",
       "      <td>gpd_vote</td>\n",
       "      <td>1</td>\n",
       "    </tr>\n",
       "    <tr>\n",
       "      <th>497</th>\n",
       "      <td>497</td>\n",
       "      <td>76</td>\n",
       "      <td>0.154515</td>\n",
       "      <td>0.139353</td>\n",
       "      <td>0.103543</td>\n",
       "      <td>0.277283</td>\n",
       "      <td>0.081564</td>\n",
       "      <td>0.243741</td>\n",
       "      <td>lrda_vote</td>\n",
       "      <td>0</td>\n",
       "    </tr>\n",
       "    <tr>\n",
       "      <th>498</th>\n",
       "      <td>498</td>\n",
       "      <td>26</td>\n",
       "      <td>0.680393</td>\n",
       "      <td>0.032345</td>\n",
       "      <td>0.092773</td>\n",
       "      <td>0.001559</td>\n",
       "      <td>0.182094</td>\n",
       "      <td>0.010837</td>\n",
       "      <td>seizure_vote</td>\n",
       "      <td>4</td>\n",
       "    </tr>\n",
       "    <tr>\n",
       "      <th>499</th>\n",
       "      <td>499</td>\n",
       "      <td>16</td>\n",
       "      <td>0.230164</td>\n",
       "      <td>0.063385</td>\n",
       "      <td>0.185966</td>\n",
       "      <td>0.281328</td>\n",
       "      <td>0.157906</td>\n",
       "      <td>0.081251</td>\n",
       "      <td>lrda_vote</td>\n",
       "      <td>3</td>\n",
       "    </tr>\n",
       "  </tbody>\n",
       "</table>\n",
       "<p>500 rows × 10 columns</p>\n",
       "</div>"
      ],
      "text/plain": [
       "     eeg_id  patient_id  seizure_vote  lpd_vote  gpd_vote  lrda_vote  \\\n",
       "0         0          52      0.077368  0.016019  0.010173   0.055574   \n",
       "1         1          93      0.054295  0.412413  0.295168   0.219599   \n",
       "2         2          15      0.094554  0.068652  0.091909   0.254528   \n",
       "3         3          72      0.042833  0.269521  0.253119   0.242989   \n",
       "4         4          61      0.031128  0.054718  0.163076   0.203813   \n",
       "..      ...         ...           ...       ...       ...        ...   \n",
       "495     495          93      0.232811  0.187740  0.120637   0.240649   \n",
       "496     496          67      0.104876  0.196337  0.201738   0.162458   \n",
       "497     497          76      0.154515  0.139353  0.103543   0.277283   \n",
       "498     498          26      0.680393  0.032345  0.092773   0.001559   \n",
       "499     499          16      0.230164  0.063385  0.185966   0.281328   \n",
       "\n",
       "     grda_vote  other_vote expert_consensus  fold  \n",
       "0     0.404570    0.436296       other_vote     4  \n",
       "1     0.018326    0.000200         lpd_vote     0  \n",
       "2     0.241059    0.249297        lrda_vote     1  \n",
       "3     0.119773    0.071766         lpd_vote     4  \n",
       "4     0.219944    0.327320       other_vote     2  \n",
       "..         ...         ...              ...   ...  \n",
       "495   0.129826    0.088337        lrda_vote     0  \n",
       "496   0.182024    0.152567         gpd_vote     1  \n",
       "497   0.081564    0.243741        lrda_vote     0  \n",
       "498   0.182094    0.010837     seizure_vote     4  \n",
       "499   0.157906    0.081251        lrda_vote     3  \n",
       "\n",
       "[500 rows x 10 columns]"
      ]
     },
     "execution_count": 2,
     "metadata": {},
     "output_type": "execute_result"
    }
   ],
   "source": [
    "\n",
    "class CFG:\n",
    "    # Input Sequence Length :\n",
    "    #   - Original Sampling Rate: 200 Hz\n",
    "    #   - Downsample Factor: 2\n",
    "    #   - Effective Sampling Rate: 200 Hz / 2 = 100 Hz\n",
    "    #   - Clip Duration: 50 seconds\n",
    "    #   - Required Input Length: 100 Hz * 50 s = 5000 timesteps\n",
    "\n",
    "    # Receptive Field Calculation TCN:\n",
    "    #   - The RF formula is: 1 + Sum[(kernel_size - 1) * dilation] for each layer.\n",
    "    #   - With 8 layers, the dilations are: 1, 2, 4, 8, 16, 32, 64, 128.\n",
    "    #   - Kernel Size: 21, so (kernel_size - 1) = 20.\n",
    "    #   - RF = 1 + (20 * 1) + (20 * 2) + (20 * 4) + (20 * 8) + (20 * 16) + (20 * 32) + (20 * 64) + (20 * 128)\n",
    "    #   - RF = 1 + 20 * (1 + 2 + 4 + 8 + 16 + 32 + 64 + 128)\n",
    "    #   - RF = 1 + 20 * (255)\n",
    "    #   - RF = 1 + 5100 = 5101 timesteps\n",
    "    seed = 42\n",
    "    n_splits = 5\n",
    "    data_path = '../../../data/'\n",
    "\n",
    "    model_name = 'TCN'\n",
    "    num_tcn_channels = [64, 128, 128, 256, 256, 512, 512, 512]\n",
    "    kernel_size = 21 \n",
    "    dropout = 0.35\n",
    "    target_size = 6\n",
    "\n",
    "\n",
    "    original_sampling_rate = 200 # Hz\n",
    "    sequence_duration = 50\n",
    "    num_channels = 20 # Number of input EEG channels\n",
    "    \n",
    "    enable_downsampling = True\n",
    "    downsample_factor = 3 # 2 would be optimal, but 3 is used to fit in memory. maybe if we can get a better GPU...\n",
    "\n",
    "\n",
    "    batch_size = 32\n",
    "    num_workers = 0\n",
    "    epochs = 15\n",
    "    lr = 1e-4\n",
    "\n",
    "if CFG.enable_downsampling:\n",
    "    CFG.sampling_rate = CFG.original_sampling_rate // CFG.downsample_factor\n",
    "else:\n",
    "    CFG.sampling_rate = CFG.original_sampling_rate\n",
    "\n",
    "CFG.sequence_length = CFG.sequence_duration * CFG.sampling_rate\n",
    "\n",
    "def set_seed(seed):\n",
    "    np.random.seed(seed)\n",
    "    torch.manual_seed(seed)\n",
    "    if torch.cuda.is_available():\n",
    "        torch.cuda.manual_seed(seed)\n",
    "\n",
    "set_seed(CFG.seed)\n",
    "TARGETS = Constants.TARGETS\n",
    "\n"
   ]
  },
  {
   "cell_type": "code",
   "execution_count": null,
   "id": "c149bdc1",
   "metadata": {},
   "outputs": [],
   "source": [
    "\n",
    "class TCNModel(nn.Module):\n",
    "    def __init__(self, num_inputs, num_outputs, channel_sizes, kernel_size, dropout, causal=False, use_skip_connections=True):\n",
    "        super(TCNModel, self).__init__()\n",
    "        self.tcn = TCN(\n",
    "            num_inputs=num_inputs,\n",
    "            num_channels=channel_sizes,\n",
    "            kernel_size=kernel_size,\n",
    "            dropout=dropout,\n",
    "            causal=causal,\n",
    "            use_skip_connections=use_skip_connections\n",
    "        )\n",
    "        # The output of the TCN is the number of channels in the last layer\n",
    "        self.fc = nn.Linear(channel_sizes[-1], num_outputs)\n",
    "\n",
    "    def forward(self, x):\n",
    "        # TCN expects input of shape (batch_size, num_channels, sequence_length)\n",
    "        # Our dataloader provides (batch_size, sequence_length, num_channels)\n",
    "        # So we need to permute the dimensions\n",
    "        x = x.permute(0, 2, 1)\n",
    "        \n",
    "        tcn_output = self.tcn(x)\n",
    "        \n",
    "        # We take the output of the last time step for classification\n",
    "        last_time_step_output = tcn_output[:, :, -1]\n",
    "        \n",
    "        output = self.fc(last_time_step_output)\n",
    "        return output\n",
    "\n",
    "def get_dataloaders(df, fold_id):\n",
    "    train_df = df[df['fold'] != fold_id].reset_index(drop=True)\n",
    "    valid_df = df[df['fold'] == fold_id].reset_index(drop=True)\n",
    "\n",
    "    downsample_factor = CFG.downsample_factor if CFG.enable_downsampling else 1\n",
    "\n",
    "    train_dataset = EEGDataset(\n",
    "        df=train_df, data_path=CFG.data_path, mode='train', \n",
    "        downsample_factor=downsample_factor\n",
    "    )\n",
    "    valid_dataset = EEGDataset(\n",
    "        df=valid_df, data_path=CFG.data_path, mode='valid', \n",
    "        downsample_factor=downsample_factor\n",
    "    )\n",
    "\n",
    "    train_loader = DataLoader(\n",
    "        train_dataset, batch_size=CFG.batch_size, shuffle=True,\n",
    "        num_workers=CFG.num_workers, pin_memory=True, drop_last=True\n",
    "    )\n",
    "    \n",
    "    valid_loader = DataLoader(\n",
    "        valid_dataset, batch_size=CFG.batch_size, shuffle=False,\n",
    "        num_workers=CFG.num_workers, pin_memory=True, drop_last=False\n",
    "    )\n",
    "    \n",
    "    return train_loader, valid_loader\n"
   ]
  },
  {
   "cell_type": "code",
   "execution_count": null,
   "id": "89a05550",
   "metadata": {},
   "outputs": [],
   "source": [
    "def run_training(df, DATA_PREPARATION_VOTE_METHOD):\n",
    "    device = torch.device('cuda' if torch.cuda.is_available() else 'cpu')\n",
    "    print(f\"Using device: {device}\")\n",
    "    \n",
    "    fold_scores = []\n",
    "\n",
    "    for fold in range(CFG.n_splits):\n",
    "        print(f\"\\n========== FOLD {fold} ==========\")\n",
    "\n",
    "        config = {\n",
    "            \"architecture\": CFG.model_name, \"tcn_channels\": CFG.num_tcn_channels,\n",
    "            \"kernel_size\": CFG.kernel_size, \"dropout\": CFG.dropout,\n",
    "            \"fold\": fold, \"features\": \"raw_eeg\", \"sequence_duration\": f\"{CFG.sequence_duration}s\",\n",
    "            \"optimizer\": \"AdamW\", \"learning_rate\": CFG.lr, \"batch_size\": CFG.batch_size,\n",
    "            \"epochs\": CFG.epochs, \"seed\": CFG.seed, \"Scheduler\": \"CosineAnnealingLR\" \n",
    "        }\n",
    "\n",
    "        wandb.init(\n",
    "            project=\"hms-aicomp-tcn\",\n",
    "            name=f\"tcn-raw-eeg-fold{fold}\", \n",
    "            tags=['tcn-baseline', f'fold{fold}'],\n",
    "            config=config\n",
    "        )\n",
    "\n",
    "        model = TCNModel(\n",
    "            num_inputs=CFG.num_channels,\n",
    "            num_outputs=CFG.target_size,\n",
    "            channel_sizes=CFG.num_tcn_channels,\n",
    "            kernel_size=CFG.kernel_size,\n",
    "            dropout=CFG.dropout,\n",
    "            causal=False, # causality is a limitation we don't need for our prediction task\n",
    "            use_skip_connections=True\n",
    "        )\n",
    "        model.to(device)\n",
    "\n",
    "        optimizer = torch.optim.AdamW(model.parameters(), lr=CFG.lr)\n",
    "        scheduler = CosineAnnealingLR(optimizer, T_max=CFG.epochs)\n",
    "        loss_fn = nn.KLDivLoss(reduction='batchmean')\n",
    "        train_loader, valid_loader = get_dataloaders(df, fold)\n",
    "\n",
    "        best_val_loss = float('inf')\n",
    "        best_model_path = None\n",
    "        shape_printed = False  \n",
    "        for epoch in range(CFG.epochs):\n",
    "            print(f\"   --- Epoch {epoch+1}/{CFG.epochs} ---\")\n",
    "            \n",
    "            model.train()\n",
    "            train_loss = 0\n",
    "            for signals, labels in tqdm(train_loader, desc=\"Training\"):\n",
    "                signals, labels = signals.to(device), labels.to(device)\n",
    "                if not shape_printed:\n",
    "                                    print(f\"\\n--- Data Shape Verification ---\")\n",
    "                                    print(f\"Shape of one training batch (batch, seq_len, channels): {signals.shape}\")\n",
    "                                    print(f\"Calculated sequence length in CFG: {CFG.sequence_length}\")\n",
    "                                    print(f\"Downsampling enabled: {CFG.enable_downsampling}, Factor: {CFG.downsample_factor if CFG.enable_downsampling else 'N/A'}\")\n",
    "                                    print(f\"--- End Verification ---\\n\")\n",
    "                                    shape_printed = True\n",
    "                optimizer.zero_grad()\n",
    "                outputs = model(signals)\n",
    "                log_probs = F.log_softmax(outputs, dim=1)\n",
    "                loss = loss_fn(log_probs, labels)\n",
    "                loss.backward()\n",
    "\n",
    "                total_norm = 0\n",
    "                for name, p in model.named_parameters():\n",
    "                    if p.grad is not None:\n",
    "                        param_norm = p.grad.data.norm(2)\n",
    "                        total_norm += param_norm.item() ** 2\n",
    "                        if \"tcn.network.0.conv1.weight\" in name: \n",
    "                            wandb.log({\"gradients/tcn_layer_0_norm\": param_norm.item()})\n",
    "                        elif \"fc.weight\" in name:\n",
    "                            wandb.log({\"gradients/fc_layer_norm\": param_norm.item()})\n",
    "                \n",
    "                total_norm = total_norm ** 0.5\n",
    "                wandb.log({\"gradients/total_norm\": total_norm})\n",
    "                \n",
    "                torch.nn.utils.clip_grad_norm_(model.parameters(), max_norm=1.0)\n",
    "                optimizer.step()\n",
    "\n",
    "                train_loss += loss.item() * signals.size(0)\n",
    "                wandb.log({\"train/loss\": loss.item()})\n",
    "            train_loss /= len(train_loader.dataset)\n",
    "\n",
    "            model.eval()\n",
    "            valid_loss = 0\n",
    "            with torch.no_grad():\n",
    "                for i, (signals, labels) in enumerate(tqdm(valid_loader, desc=\"Validation\")):\n",
    "                    signals, labels = signals.to(device), labels.to(device)\n",
    "                    outputs = model(signals)\n",
    "                    log_probs = F.log_softmax(outputs, dim=1)\n",
    "                    loss = loss_fn(log_probs, labels)\n",
    "                    valid_loss += loss.item() * signals.size(0)\n",
    "\n",
    "            valid_loss /= len(valid_loader.dataset)\n",
    "            \n",
    "            epoch_lr = optimizer.param_groups[0]['lr']\n",
    "            print(f\"   Epoch {epoch+1}: Train Loss = {train_loss:.4f}, Valid Loss = {valid_loss:.4f}, LR = {epoch_lr:.6f}\")\n",
    "            wandb.log({\n",
    "                \"epoch\": epoch + 1, \"train/epoch_loss\": train_loss, \"val/loss\": valid_loss,\n",
    "                \"val/kl_div\": valid_loss, \"train/epoch_lr\": epoch_lr\n",
    "            })\n",
    "\n",
    "            if valid_loss < best_val_loss:\n",
    "                best_val_loss = valid_loss\n",
    "                best_model_path = get_models_save_path() / \"TCNModel\" / DATA_PREPARATION_VOTE_METHOD / f'best_model_fold{fold}.pth'\n",
    "                best_model_path.parent.mkdir(parents=True, exist_ok=True)\n",
    "                torch.save(model.state_dict(), best_model_path)\n",
    "                print(f\"   New best model saved with validation loss: {best_val_loss:.4f}\")\n",
    "            scheduler.step()\n",
    "        \n",
    "        fold_scores.append(best_val_loss)\n",
    "        wandb.summary['best_val_kl_div'] = best_val_loss\n",
    "        if best_model_path:\n",
    "            artifact = wandb.Artifact(f'model-fold{fold}', type='model')\n",
    "            artifact.add_file(best_model_path)\n",
    "            wandb.log_artifact(artifact)\n",
    "            print(f\"\\nLogged artifact for fold {fold} with best validation loss: {best_val_loss:.4f}\")\n",
    "        else:\n",
    "            print(\"\\nNo best model was saved during training for this fold.\")\n",
    "        wandb.finish()\n",
    "    return fold_scores\n",
    "\n"
   ]
  },
  {
   "cell_type": "code",
   "execution_count": null,
   "id": "59b0ae14",
   "metadata": {},
   "outputs": [],
   "source": [
    "if __name__ == '__main__':\n",
    "    DATA_PREPARATION_VOTE_METHOD = \"sum_and_normalize\"\n",
    "\n",
    "    print(\"Preparing data and creating folds...\")\n",
    "    df = pd.read_csv(CFG.data_path + 'processed_data_sum_votes_window.csv') \n",
    "\n",
    "    label_map = {t: i for i, t in enumerate(TARGETS)}\n",
    "    df['expert_consensus'] = df[TARGETS].idxmax(axis=1)\n",
    "\n",
    "    print('Train shape:', df.shape)\n",
    "    print('Targets', list(TARGETS))\n",
    "\n",
    "    fold_creator = KFoldCreator(n_splits=CFG.n_splits, seed=CFG.seed)\n",
    "    df = fold_creator.create_folds(df, stratify_col='expert_consensus', group_col='patient_id')\n",
    "\n",
    "    print(\"Folds created. Value counts per fold:\")\n",
    "    print(df['fold'].value_counts())\n",
    "\n",
    "    all_fold_scores = run_training(df, DATA_PREPARATION_VOTE_METHOD)\n",
    "    cv_score = np.mean(all_fold_scores)\n",
    "    print(f\"\\nCross-Validation Score (Mean KL Divergence across folds): {cv_score:.4f}\")"
   ]
  },
  {
   "cell_type": "code",
   "execution_count": null,
   "id": "3f8d0ed3",
   "metadata": {},
   "outputs": [],
   "source": []
  }
 ],
 "metadata": {
  "kernelspec": {
   "display_name": "aicomp",
   "language": "python",
   "name": "python3"
  },
  "language_info": {
   "codemirror_mode": {
    "name": "ipython",
    "version": 3
   },
   "file_extension": ".py",
   "mimetype": "text/x-python",
   "name": "python",
   "nbconvert_exporter": "python",
   "pygments_lexer": "ipython3",
   "version": "3.13.7"
  }
 },
 "nbformat": 4,
 "nbformat_minor": 5
}
