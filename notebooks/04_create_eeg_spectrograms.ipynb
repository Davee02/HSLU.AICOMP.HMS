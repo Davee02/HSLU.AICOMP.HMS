{
 "cells": [
  {
   "cell_type": "code",
   "execution_count": 4,
   "metadata": {},
   "outputs": [],
   "source": [
    "import os\n",
    "import sys\n",
    "import warnings\n",
    "import gc\n",
    "import pathlib\n",
    "\n",
    "if bool(os.environ.get(\"KAGGLE_URL_BASE\", \"\")):\n",
    "  import sys\n",
    "  # running on kaggle\n",
    "  sys.path.insert(0, \"/kaggle/input/hsm-source-files\")\n",
    "else:\n",
    "  # running locally\n",
    "  sys.path.insert(0, os.path.abspath(os.path.join(os.getcwd(), \"..\")))\n",
    "\n",
    "import torch.nn as nn\n",
    "import pandas as pd\n",
    "import numpy as np\n",
    "from sklearn.svm import SVC\n",
    "from sklearn.preprocessing import StandardScaler\n",
    "\n",
    "import torch\n",
    "import joblib\n",
    "import librosa\n",
    "\n",
    "from src.utils.utils import get_raw_data_dir, get_processed_data_dir, get_submission_csv_path, set_seeds, get_models_save_path, running_in_kaggle\n",
    "from src.utils.constants import Constants\n",
    "from src.datasets.eeg_processor import EEGDataProcessor\n",
    "from src.utils.k_folds_creator import KFoldCreator\n",
    "\n",
    "from tqdm import tqdm\n",
    "\n",
    "set_seeds(42)\n",
    "\n",
    "warnings.filterwarnings(\"ignore\", category=pd.errors.PerformanceWarning)"
   ]
  },
  {
   "cell_type": "markdown",
   "metadata": {},
   "source": [
    "https://www.kaggle.com/code/cdeotte/how-to-make-spectrogram-from-eeg/notebook"
   ]
  },
  {
   "cell_type": "code",
   "execution_count": 9,
   "metadata": {},
   "outputs": [
    {
     "name": "stdout",
     "output_type": "stream",
     "text": [
      "Data path: /home/david/git/aicomp/data\n"
     ]
    }
   ],
   "source": [
    "DATA_PATH = get_raw_data_dir()\n",
    "print(\"Data path:\", DATA_PATH)\n",
    "\n",
    "SAVE_PATH = get_processed_data_dir() / \"eeg_spectrograms\"\n",
    "TRAIN_SAVE_PATH = SAVE_PATH / \"train\"\n",
    "\n",
    "os.makedirs(TRAIN_SAVE_PATH, exist_ok=True)\n",
    "\n",
    "train_df = pd.read_csv(DATA_PATH / \"train.csv\")\n",
    "train_eeg_ids = train_df[\"eeg_id\"].unique()"
   ]
  },
  {
   "cell_type": "code",
   "execution_count": 12,
   "metadata": {},
   "outputs": [],
   "source": [
    "CHAIN_NAMES = [\"LL\", \"LP\", \"RP\", \"RR\", \"CZ\"]\n",
    "ELECTRODES_PER_CHAIN = [\n",
    "  [\"Fp1\",\"F7\",\"T3\",\"T5\",\"O1\"],\n",
    "  [\"Fp1\",\"F3\",\"C3\",\"P3\",\"O1\"],\n",
    "  [\"Fp2\",\"F8\",\"T4\",\"T6\",\"O2\"],\n",
    "  [\"Fp2\",\"F4\",\"C4\",\"P4\",\"O2\"],\n",
    "  [\"Fz\",\"Cz\",\"Pz\"]\n",
    "]"
   ]
  },
  {
   "cell_type": "markdown",
   "metadata": {},
   "source": [
    "We will input it into CNN image model and CNN image model needs the dimensions to be multiples of 32. Then I chose 128x256 because it is close to Kaggle's dimensions of 100x300."
   ]
  },
  {
   "cell_type": "code",
   "execution_count": 20,
   "metadata": {},
   "outputs": [],
   "source": [
    "def load_middle_50_seconds_of_eeg(data_path, eeg_id):\n",
    "  eeg = pd.read_parquet(data_path / f\"{eeg_id}.parquet\")\n",
    "  middle = (len(eeg) - 10000) // 2 # 10000 samples = 25 seconds\n",
    "  return eeg.iloc[middle:middle+10_000]\n",
    "\n",
    "def fill_nan_with_mean(X):\n",
    "    col_means = np.nanmean(X, axis=0)\n",
    "    X = np.nan_to_num(X, nan=col_means)\n",
    "    return X\n",
    "\n",
    "def create_mel_spectrogram(pair_difference):\n",
    "  # raw spectrogram\n",
    "  mel_spec = librosa.feature.melspectrogram(\n",
    "    y=pair_difference,\n",
    "    sr=200, # sampling frequency is 200Hz\n",
    "    hop_length=len(pair_difference)//256, # produces image with width = len(x)/hop_length\n",
    "    n_fft=1024, # controls vertical resolution and quality of spectrogram\n",
    "    n_mels=128, # number of mel bands, corresponds to height of spectrogram\n",
    "    fmin=0, # min frequency\n",
    "    fmax=20, # max frequency\n",
    "    win_length=128) # window size, controls horizontal resolution and quality of spectrogram\n",
    "  \n",
    "  # log transform and cut to width 256\n",
    "  width = (mel_spec.shape[1]//32)*32\n",
    "  mel_spec_db = librosa.power_to_db(mel_spec, ref=np.max).astype(np.float32)[:,:width]\n",
    "\n",
    "  # standardize to [-1,1]\n",
    "  mel_spec_db = (mel_spec_db+40)/40 \n",
    "\n",
    "\n",
    "def spectrogram_from_eeg(data_path, eeg_id):\n",
    "  eeg = load_middle_50_seconds_of_eeg(data_path, eeg_id)\n",
    "\n",
    "  # output image has height=128, width=256, channels=5 (for 5 chains)\n",
    "  spectrogram = np.zeros((128,256,len(CHAIN_NAMES)), dtype=\"float32\")\n",
    "  for chain_index in range(len(CHAIN_NAMES)):\n",
    "    electrodes = ELECTRODES_PER_CHAIN[chain_index]\n",
    "    electrodes = fill_nan_with_mean(electrodes)\n",
    "    pair_difference_num = len(electrodes) - 1\n",
    "\n",
    "    for pair_difference_index in range(pair_difference_num):\n",
    "      pair_difference = eeg[electrodes[pair_difference_index]] - eeg[electrodes[pair_difference_index+1]].values\n",
    "      mel_spec_db = create_mel_spectrogram(pair_difference)\n",
    "      spectrogram[:,:,chain_index] += mel_spec_db\n",
    "\n",
    "    # average the spectrogram differences for this chain\n",
    "    spectrogram[:,:,chain_index] /= pair_difference_num\n",
    "  \n",
    "  return spectrogram"
   ]
  },
  {
   "cell_type": "code",
   "execution_count": 21,
   "metadata": {},
   "outputs": [
    {
     "name": "stderr",
     "output_type": "stream",
     "text": [
      "  1%|          | 97/17089 [00:15<44:39,  6.34it/s]  \n"
     ]
    },
    {
     "ename": "KeyboardInterrupt",
     "evalue": "",
     "output_type": "error",
     "traceback": [
      "\u001b[31m---------------------------------------------------------------------------\u001b[39m",
      "\u001b[31mKeyboardInterrupt\u001b[39m                         Traceback (most recent call last)",
      "\u001b[36mCell\u001b[39m\u001b[36m \u001b[39m\u001b[32mIn[21]\u001b[39m\u001b[32m, line 2\u001b[39m\n\u001b[32m      1\u001b[39m \u001b[38;5;28;01mfor\u001b[39;00m i, eeg_id \u001b[38;5;129;01min\u001b[39;00m \u001b[38;5;28menumerate\u001b[39m(tqdm(train_eeg_ids)):\n\u001b[32m----> \u001b[39m\u001b[32m2\u001b[39m   spectrogram = \u001b[43mspectrogram_from_eeg\u001b[49m\u001b[43m(\u001b[49m\u001b[43mDATA_PATH\u001b[49m\u001b[43m \u001b[49m\u001b[43m/\u001b[49m\u001b[43m \u001b[49m\u001b[33;43m\"\u001b[39;49m\u001b[33;43mtrain_eegs\u001b[39;49m\u001b[33;43m\"\u001b[39;49m\u001b[43m,\u001b[49m\u001b[43m \u001b[49m\u001b[43meeg_id\u001b[49m\u001b[43m)\u001b[49m\n\u001b[32m      3\u001b[39m   out_path = TRAIN_SAVE_PATH / \u001b[33mf\u001b[39m\u001b[33m\"\u001b[39m\u001b[38;5;132;01m{\u001b[39;00meeg_id\u001b[38;5;132;01m}\u001b[39;00m\u001b[33m.npy\u001b[39m\u001b[33m\"\u001b[39m\n\u001b[32m      4\u001b[39m   np.save(out_path, spectrogram)\n",
      "\u001b[36mCell\u001b[39m\u001b[36m \u001b[39m\u001b[32mIn[20]\u001b[39m\u001b[32m, line 25\u001b[39m, in \u001b[36mspectrogram_from_eeg\u001b[39m\u001b[34m(data_path, eeg_id)\u001b[39m\n\u001b[32m     22\u001b[39m pair_difference = fill_nan_with_mean(pair_differences)\n\u001b[32m     24\u001b[39m \u001b[38;5;66;03m# raw spectrogram\u001b[39;00m\n\u001b[32m---> \u001b[39m\u001b[32m25\u001b[39m mel_spec = \u001b[43mlibrosa\u001b[49m\u001b[43m.\u001b[49m\u001b[43mfeature\u001b[49m\u001b[43m.\u001b[49m\u001b[43mmelspectrogram\u001b[49m\u001b[43m(\u001b[49m\u001b[43my\u001b[49m\u001b[43m=\u001b[49m\u001b[43mpair_difference\u001b[49m\u001b[43m,\u001b[49m\u001b[43m \u001b[49m\u001b[43msr\u001b[49m\u001b[43m=\u001b[49m\u001b[32;43m200\u001b[39;49m\u001b[43m,\u001b[49m\u001b[43m \u001b[49m\u001b[43mhop_length\u001b[49m\u001b[43m=\u001b[49m\u001b[38;5;28;43mlen\u001b[39;49m\u001b[43m(\u001b[49m\u001b[43mpair_difference\u001b[49m\u001b[43m)\u001b[49m\u001b[43m/\u001b[49m\u001b[43m/\u001b[49m\u001b[32;43m256\u001b[39;49m\u001b[43m,\u001b[49m\u001b[43m \u001b[49m\n\u001b[32m     26\u001b[39m \u001b[43m    \u001b[49m\u001b[43mn_fft\u001b[49m\u001b[43m=\u001b[49m\u001b[32;43m1024\u001b[39;49m\u001b[43m,\u001b[49m\u001b[43m \u001b[49m\u001b[43mn_mels\u001b[49m\u001b[43m=\u001b[49m\u001b[32;43m128\u001b[39;49m\u001b[43m,\u001b[49m\u001b[43m \u001b[49m\u001b[43mfmin\u001b[49m\u001b[43m=\u001b[49m\u001b[32;43m0\u001b[39;49m\u001b[43m,\u001b[49m\u001b[43m \u001b[49m\u001b[43mfmax\u001b[49m\u001b[43m=\u001b[49m\u001b[32;43m20\u001b[39;49m\u001b[43m,\u001b[49m\u001b[43m \u001b[49m\u001b[43mwin_length\u001b[49m\u001b[43m=\u001b[49m\u001b[32;43m128\u001b[39;49m\u001b[43m)\u001b[49m\n\u001b[32m     28\u001b[39m \u001b[38;5;66;03m# log transform and cut to width 256\u001b[39;00m\n\u001b[32m     29\u001b[39m width = (mel_spec.shape[\u001b[32m1\u001b[39m]//\u001b[32m32\u001b[39m)*\u001b[32m32\u001b[39m\n",
      "\u001b[36mFile \u001b[39m\u001b[32m~/miniconda3/envs/aicomp/lib/python3.12/site-packages/librosa/feature/spectral.py:2148\u001b[39m, in \u001b[36mmelspectrogram\u001b[39m\u001b[34m(y, sr, S, n_fft, hop_length, win_length, window, center, pad_mode, power, **kwargs)\u001b[39m\n\u001b[32m   2135\u001b[39m S, n_fft = _spectrogram(\n\u001b[32m   2136\u001b[39m     y=y,\n\u001b[32m   2137\u001b[39m     S=S,\n\u001b[32m   (...)\u001b[39m\u001b[32m   2144\u001b[39m     pad_mode=pad_mode,\n\u001b[32m   2145\u001b[39m )\n\u001b[32m   2147\u001b[39m \u001b[38;5;66;03m# Build a Mel filter\u001b[39;00m\n\u001b[32m-> \u001b[39m\u001b[32m2148\u001b[39m mel_basis = \u001b[43mfilters\u001b[49m\u001b[43m.\u001b[49m\u001b[43mmel\u001b[49m\u001b[43m(\u001b[49m\u001b[43msr\u001b[49m\u001b[43m=\u001b[49m\u001b[43msr\u001b[49m\u001b[43m,\u001b[49m\u001b[43m \u001b[49m\u001b[43mn_fft\u001b[49m\u001b[43m=\u001b[49m\u001b[43mn_fft\u001b[49m\u001b[43m,\u001b[49m\u001b[43m \u001b[49m\u001b[43m*\u001b[49m\u001b[43m*\u001b[49m\u001b[43mkwargs\u001b[49m\u001b[43m)\u001b[49m\n\u001b[32m   2150\u001b[39m melspec: np.ndarray = np.einsum(\u001b[33m\"\u001b[39m\u001b[33m...ft,mf->...mt\u001b[39m\u001b[33m\"\u001b[39m, S, mel_basis, optimize=\u001b[38;5;28;01mTrue\u001b[39;00m)\n\u001b[32m   2151\u001b[39m \u001b[38;5;28;01mreturn\u001b[39;00m melspec\n",
      "\u001b[36mFile \u001b[39m\u001b[32m~/miniconda3/envs/aicomp/lib/python3.12/site-packages/librosa/filters.py:239\u001b[39m, in \u001b[36mmel\u001b[39m\u001b[34m(sr, n_fft, n_mels, fmin, fmax, htk, norm, dtype)\u001b[39m\n\u001b[32m    236\u001b[39m     upper = ramps[i + \u001b[32m2\u001b[39m] / fdiff[i + \u001b[32m1\u001b[39m]\n\u001b[32m    238\u001b[39m     \u001b[38;5;66;03m# .. then intersect them with each other and zero\u001b[39;00m\n\u001b[32m--> \u001b[39m\u001b[32m239\u001b[39m     weights[i] = np.maximum(\u001b[32m0\u001b[39m, \u001b[43mnp\u001b[49m\u001b[43m.\u001b[49m\u001b[43mminimum\u001b[49m\u001b[43m(\u001b[49m\u001b[43mlower\u001b[49m\u001b[43m,\u001b[49m\u001b[43m \u001b[49m\u001b[43mupper\u001b[49m\u001b[43m)\u001b[49m)\n\u001b[32m    241\u001b[39m \u001b[38;5;28;01mif\u001b[39;00m \u001b[38;5;28misinstance\u001b[39m(norm, \u001b[38;5;28mstr\u001b[39m):\n\u001b[32m    242\u001b[39m     \u001b[38;5;28;01mif\u001b[39;00m norm == \u001b[33m\"\u001b[39m\u001b[33mslaney\u001b[39m\u001b[33m\"\u001b[39m:\n\u001b[32m    243\u001b[39m         \u001b[38;5;66;03m# Slaney-style mel is scaled to be approx constant energy per channel\u001b[39;00m\n",
      "\u001b[31mKeyboardInterrupt\u001b[39m: "
     ]
    }
   ],
   "source": [
    "for i, eeg_id in enumerate(tqdm(train_eeg_ids)):\n",
    "  spectrogram = spectrogram_from_eeg(DATA_PATH / \"train_eegs\", eeg_id)\n",
    "  out_path = TRAIN_SAVE_PATH / f\"{eeg_id}.npy\"\n",
    "  np.save(out_path, spectrogram)"
   ]
  }
 ],
 "metadata": {
  "kernelspec": {
   "display_name": "aicomp",
   "language": "python",
   "name": "python3"
  },
  "language_info": {
   "codemirror_mode": {
    "name": "ipython",
    "version": 3
   },
   "file_extension": ".py",
   "mimetype": "text/x-python",
   "name": "python",
   "nbconvert_exporter": "python",
   "pygments_lexer": "ipython3",
   "version": "3.12.11"
  }
 },
 "nbformat": 4,
 "nbformat_minor": 2
}
